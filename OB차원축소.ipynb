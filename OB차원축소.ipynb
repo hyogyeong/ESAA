{
  "nbformat": 4,
  "nbformat_minor": 0,
  "metadata": {
    "colab": {
      "name": "OB차원축소.ipynb",
      "provenance": [],
      "collapsed_sections": [],
      "include_colab_link": true
    },
    "kernelspec": {
      "name": "python3",
      "display_name": "Python 3"
    },
    "language_info": {
      "name": "python"
    }
  },
  "cells": [
    {
      "cell_type": "markdown",
      "metadata": {
        "id": "view-in-github",
        "colab_type": "text"
      },
      "source": [
        "<a href=\"https://colab.research.google.com/github/hyogyeong/ESAA/blob/main/OB%EC%B0%A8%EC%9B%90%EC%B6%95%EC%86%8C.ipynb\" target=\"_parent\"><img src=\"https://colab.research.google.com/assets/colab-badge.svg\" alt=\"Open In Colab\"/></a>"
      ]
    },
    {
      "cell_type": "markdown",
      "metadata": {
        "id": "9dqhGeEZiQn-"
      },
      "source": [
        "1. 데이터셋의 차원을 축소하는 목적은 무엇인가요? 대표적인 단점은 무엇인가요?"
      ]
    },
    {
      "cell_type": "markdown",
      "metadata": {
        "id": "KjQ1_L_FiqDb"
      },
      "source": [
        "목적 1 : 훈련 알고리즘의 속도를 높이기 위해\n",
        "목적 2: 데이터를 시각화하고 가장 중요한 특성에 대한 통찰을 얻기 위해\n",
        "목적 3: 메모리 공간을 절약하기 위해\n",
        "\n",
        "단점1: 일부 정보를 잃어버려 훈련 알고리즘의 성능을 감소시킬 수 있음\n",
        "단점 2: 계산 비용이 높음\n",
        "단점 3: 머신러닝 파이프라인의 복잡도를 증가시킴\n",
        "단점 4: 변환된 데이터를 이해하기 어려운 경우가 많음"
      ]
    },
    {
      "cell_type": "markdown",
      "metadata": {
        "id": "koJ9d34cibn2"
      },
      "source": [
        "2. 기본 PCA, 점진적 PCA, 랜덤 PCA,커널 PCA는 어느 경우에 사용될까요?"
      ]
    },
    {
      "cell_type": "markdown",
      "metadata": {
        "id": "P9e-3-HzimIE"
      },
      "source": [
        "기본 PCA가 우선적으로 사용되지만 데이터셋 크기가 메모리에 맞을때에만 가능함. 점진적 PCA는 메모리에 담을 수 없는 대용량 데이터셋에 적합함. 하지만 기본 PCA보다 느리므로 데이터셋이 메모리 크기에 맞으면 기본 PCA를 사용해야함. 점진적 PCA는 새로운 샘플이 발생될 떄마다 실시간으로 PCA를 적용해야 하는 온라인 직업에 사용 가능함. 랜덤 PCA는 데이터셋이 메모리 크기에 맞고 차원을 크게 축소시킬 때 사용됨. 이 경우에는 기본 PCA보다 훨씬 빠름. 커널 PCA는 비선형 데이터셋에 유용함\n"
      ]
    },
    {
      "cell_type": "markdown",
      "metadata": {
        "id": "28ZlnWKbi-fL"
      },
      "source": [
        "3. MNIST 데이터셋을 로드하고 훈련세트와 테스트세트로 분할하겠습니다."
      ]
    },
    {
      "cell_type": "markdown",
      "metadata": {
        "id": "NaWuyONJk_6l"
      },
      "source": [
        "# 모듈 설정 및 데이터 불러오기"
      ]
    },
    {
      "cell_type": "code",
      "metadata": {
        "id": "vC5y5w5TjJeb"
      },
      "source": [
        "# 파이썬 ≥3.5 필수\n",
        "import sys\n",
        "assert sys.version_info >= (3, 5)\n",
        "\n",
        "# 사이킷런 ≥0.20 필수\n",
        "import sklearn\n",
        "assert sklearn.__version__ >= \"0.20\"\n",
        "\n",
        "# 공통 모듈 임포트\n",
        "import numpy as np\n",
        "import os\n",
        "\n",
        "# 노트북 실행 결과를 동일하게 유지하기 위해\n",
        "np.random.seed(42)\n",
        "\n",
        "# MNIST 불러오기\n",
        "from sklearn.datasets import fetch_openml\n",
        "\n",
        "mnist = fetch_openml('mnist_784', version=1, as_frame=False)\n",
        "mnist.target = mnist.target.astype(np.uint8)"
      ],
      "execution_count": 1,
      "outputs": []
    },
    {
      "cell_type": "markdown",
      "metadata": {
        "id": "sE46F301lsCK"
      },
      "source": [
        "# 훈련세트와 테스트세트로 분할"
      ]
    },
    {
      "cell_type": "code",
      "metadata": {
        "id": "3FCer4bbjI_E"
      },
      "source": [
        "# 첫 60000개는 훈련을 위한 샘플, 나머지 10000개는 테스트용으로 분할\n",
        "X_train = mnist['data'][:60000]\n",
        "y_train = mnist['target'][:60000]\n",
        "\n",
        "X_test = mnist['data'][60000:]\n",
        "y_test = mnist['target'][60000:]"
      ],
      "execution_count": 2,
      "outputs": []
    },
    {
      "cell_type": "markdown",
      "metadata": {
        "id": "1xe-EAtul6hi"
      },
      "source": [
        "3.1 이 데이터셋을 랜덤 포레스트 분류기로 훈련시키고 시간이 얼마나 오래걸리는지 시간을 잰 후, 테스트 세트로 만들어진 모델의 정확도를 평가합니다."
      ]
    },
    {
      "cell_type": "code",
      "metadata": {
        "id": "0onbkszcmNPQ"
      },
      "source": [
        "# 랜덤포레스트로 훈련시키는 코드\n",
        "from sklearn.ensemble import RandomForestClassifier\n",
        "\n",
        "rnd_clf = RandomForestClassifier(n_estimators=100, random_state=42)"
      ],
      "execution_count": 3,
      "outputs": []
    },
    {
      "cell_type": "code",
      "metadata": {
        "colab": {
          "base_uri": "https://localhost:8080/"
        },
        "id": "MTY66DlXmWGv",
        "outputId": "5117e8d5-b2d4-4bbb-dc8f-a65fda281575"
      },
      "source": [
        "# 훈련 시간을 재는 코드입니다.\n",
        "import time\n",
        "\n",
        "t0 = time.time()\n",
        "rnd_clf.fit(X_train, y_train)\n",
        "t1 = time.time()\n",
        "\n",
        "print(\"훈련 시간: {:.2f}s\".format(t1 - t0))"
      ],
      "execution_count": 4,
      "outputs": [
        {
          "output_type": "stream",
          "name": "stdout",
          "text": [
            "훈련 시간: 60.54s\n"
          ]
        }
      ]
    },
    {
      "cell_type": "code",
      "metadata": {
        "colab": {
          "base_uri": "https://localhost:8080/"
        },
        "id": "klCgXFh3mz-H",
        "outputId": "5c36dc96-a29e-40b6-9baf-c17c4f98c7c3"
      },
      "source": [
        "# 정확도 평가 코드입니다.\n",
        "from sklearn.metrics import accuracy_score\n",
        "\n",
        "y_pred = rnd_clf.predict(X_test)\n",
        "accuracy_score(y_test, y_pred)"
      ],
      "execution_count": 5,
      "outputs": [
        {
          "output_type": "execute_result",
          "data": {
            "text/plain": [
              "0.9705"
            ]
          },
          "metadata": {},
          "execution_count": 5
        }
      ]
    },
    {
      "cell_type": "markdown",
      "metadata": {
        "id": "tme14Nezm8fI"
      },
      "source": [
        "**3.2 문제 : 데이터셋을 PCA를 사용해 설명된 분산이 95%가 되도록 차원을 축소하세요**"
      ]
    },
    {
      "cell_type": "code",
      "metadata": {
        "id": "6xmHLxA-nGkb"
      },
      "source": [
        "from sklearn.decomposition import PCA\n",
        "\n",
        "pca = PCA(n_components=0.95)\n",
        "X_train_reduced = pca.fit_transform(X_train)"
      ],
      "execution_count": 6,
      "outputs": []
    },
    {
      "cell_type": "markdown",
      "metadata": {
        "id": "5JHF-cvTnH_t"
      },
      "source": [
        "**3.3 문제 : 이 축소된 데이터셋에 위와 같이 새로운 랜덤포레스트 분류기를 훈련시키고 얼마나 오래걸리는지 확인합니다. 훈련 시간이 빨라졌나요?**"
      ]
    },
    {
      "cell_type": "code",
      "metadata": {
        "id": "iJwlAOF2nfiE"
      },
      "source": [
        "rnd_clf2 = RandomForestClassifier(n_estimators=100, random_state=42)\n",
        "t0 = time.time()\n",
        "rnd_clf2.fit(X_train_reduced, y_train)\n",
        "t1 = time.time()"
      ],
      "execution_count": 7,
      "outputs": []
    },
    {
      "cell_type": "code",
      "metadata": {
        "id": "aUsCD5QDnhDn",
        "colab": {
          "base_uri": "https://localhost:8080/"
        },
        "outputId": "116c8571-d57f-4544-8942-7a7ea6a1004e"
      },
      "source": [
        "print(\"훈련 시간: {:.2f}s\".format(t1 - t0))"
      ],
      "execution_count": 8,
      "outputs": [
        {
          "output_type": "stream",
          "name": "stdout",
          "text": [
            "훈련 시간: 122.45s\n"
          ]
        }
      ]
    },
    {
      "cell_type": "markdown",
      "metadata": {
        "id": "5akaZqgnnkIZ"
      },
      "source": [
        "**3.4 문제: 이 테스트 세트에서 이 분류기의 정확도를 평가해보세요. 이전 분류기와 비교해서 어떤가요?**"
      ]
    },
    {
      "cell_type": "code",
      "metadata": {
        "id": "UeShGy29nqrJ",
        "colab": {
          "base_uri": "https://localhost:8080/"
        },
        "outputId": "512dbf79-4f32-498e-fc0f-e7f0ac1cabf7"
      },
      "source": [
        "X_test_reduced = pca.transform(X_test)\n",
        "\n",
        "y_pred = rnd_clf2.predict(X_test_reduced)\n",
        "accuracy_score(y_test, y_pred)"
      ],
      "execution_count": 9,
      "outputs": [
        {
          "output_type": "execute_result",
          "data": {
            "text/plain": [
              "0.9481"
            ]
          },
          "metadata": {},
          "execution_count": 9
        }
      ]
    },
    {
      "cell_type": "markdown",
      "metadata": {
        "id": "1z6q2On3ocXr"
      },
      "source": [
        "3.5 소프트 맥스 회귀를 사용해서도 같은 방식으로 실험을 해봅니다."
      ]
    },
    {
      "cell_type": "code",
      "metadata": {
        "id": "14CAbbqVojVi",
        "colab": {
          "base_uri": "https://localhost:8080/"
        },
        "outputId": "476eef01-48b8-4ee6-8758-064a8dd4c779"
      },
      "source": [
        "# 차원축소 이전의 코드\n",
        "from sklearn.linear_model import LogisticRegression\n",
        "\n",
        "log_clf = LogisticRegression(multi_class=\"multinomial\", solver=\"lbfgs\", random_state=42)\n",
        "t0 = time.time()\n",
        "log_clf.fit(X_train, y_train)\n",
        "t1 = time.time()"
      ],
      "execution_count": 10,
      "outputs": [
        {
          "output_type": "stream",
          "name": "stderr",
          "text": [
            "/usr/local/lib/python3.7/dist-packages/sklearn/linear_model/_logistic.py:818: ConvergenceWarning: lbfgs failed to converge (status=1):\n",
            "STOP: TOTAL NO. of ITERATIONS REACHED LIMIT.\n",
            "\n",
            "Increase the number of iterations (max_iter) or scale the data as shown in:\n",
            "    https://scikit-learn.org/stable/modules/preprocessing.html\n",
            "Please also refer to the documentation for alternative solver options:\n",
            "    https://scikit-learn.org/stable/modules/linear_model.html#logistic-regression\n",
            "  extra_warning_msg=_LOGISTIC_SOLVER_CONVERGENCE_MSG,\n"
          ]
        }
      ]
    },
    {
      "cell_type": "code",
      "metadata": {
        "id": "H8YQXt91ovnL",
        "colab": {
          "base_uri": "https://localhost:8080/"
        },
        "outputId": "1a7d4852-ac53-4815-d5ec-63addcd965ab"
      },
      "source": [
        "print(\"훈련 시간: {:.2f}s\".format(t1 - t0))"
      ],
      "execution_count": 11,
      "outputs": [
        {
          "output_type": "stream",
          "name": "stdout",
          "text": [
            "훈련 시간: 45.26s\n"
          ]
        }
      ]
    },
    {
      "cell_type": "code",
      "metadata": {
        "id": "DJMencFdoxIE",
        "colab": {
          "base_uri": "https://localhost:8080/"
        },
        "outputId": "86f47ba6-4721-4493-cab7-1b17624b0893"
      },
      "source": [
        "y_pred = log_clf.predict(X_test)\n",
        "accuracy_score(y_test, y_pred)"
      ],
      "execution_count": 12,
      "outputs": [
        {
          "output_type": "execute_result",
          "data": {
            "text/plain": [
              "0.9255"
            ]
          },
          "metadata": {},
          "execution_count": 12
        }
      ]
    },
    {
      "cell_type": "markdown",
      "metadata": {
        "id": "_SR8DpJTozQz"
      },
      "source": [
        "**3.6 문제 : 3.2에서 축소된 데이터 셋을 사용해 소프트맥스 회귀모델을 훈련시켜보세요. 그리고 훈련시간을 확인하세요**"
      ]
    },
    {
      "cell_type": "code",
      "metadata": {
        "id": "cj2v-6BzpMW0",
        "colab": {
          "base_uri": "https://localhost:8080/"
        },
        "outputId": "22adcb0e-c174-4489-cbd0-f3450aec7409"
      },
      "source": [
        "log_clf2 = LogisticRegression(multi_class=\"multinomial\", solver=\"lbfgs\", random_state=42)\n",
        "t0 = time.time()\n",
        "log_clf2.fit(X_train_reduced, y_train)\n",
        "t1 = time.time()"
      ],
      "execution_count": 13,
      "outputs": [
        {
          "output_type": "stream",
          "name": "stderr",
          "text": [
            "/usr/local/lib/python3.7/dist-packages/sklearn/linear_model/_logistic.py:818: ConvergenceWarning: lbfgs failed to converge (status=1):\n",
            "STOP: TOTAL NO. of ITERATIONS REACHED LIMIT.\n",
            "\n",
            "Increase the number of iterations (max_iter) or scale the data as shown in:\n",
            "    https://scikit-learn.org/stable/modules/preprocessing.html\n",
            "Please also refer to the documentation for alternative solver options:\n",
            "    https://scikit-learn.org/stable/modules/linear_model.html#logistic-regression\n",
            "  extra_warning_msg=_LOGISTIC_SOLVER_CONVERGENCE_MSG,\n"
          ]
        }
      ]
    },
    {
      "cell_type": "code",
      "metadata": {
        "id": "ZNjNXE-GpSjz",
        "colab": {
          "base_uri": "https://localhost:8080/"
        },
        "outputId": "3492de31-6cf8-4ed2-f705-5ef11bdd4533"
      },
      "source": [
        "print(\"훈련 시간: {:.2f}s\".format(t1 - t0))"
      ],
      "execution_count": 14,
      "outputs": [
        {
          "output_type": "stream",
          "name": "stdout",
          "text": [
            "훈련 시간: 12.92s\n"
          ]
        }
      ]
    },
    {
      "cell_type": "markdown",
      "metadata": {
        "id": "wMy1L2nSpWZm"
      },
      "source": [
        "**3.7 문제 : 모델의 정확도도 확인해보세요**"
      ]
    },
    {
      "cell_type": "code",
      "metadata": {
        "id": "hQtH-9ghpkw3",
        "colab": {
          "base_uri": "https://localhost:8080/"
        },
        "outputId": "6ec5f8ee-053d-418a-a49c-aa8ec4df36ca"
      },
      "source": [
        "y_pred = log_clf2.predict(X_test_reduced)\n",
        "accuracy_score(y_test, y_pred)"
      ],
      "execution_count": 15,
      "outputs": [
        {
          "output_type": "execute_result",
          "data": {
            "text/plain": [
              "0.9201"
            ]
          },
          "metadata": {},
          "execution_count": 15
        }
      ]
    },
    {
      "cell_type": "markdown",
      "metadata": {
        "id": "55eN4bcItVNl"
      },
      "source": [
        "**3.8 문제 : 랜덤포레스트 모형의 훈련시간과 정확도, 소프트맥스 모형의 훈련시간과 정확도를 비교해보세요.**"
      ]
    },
    {
      "cell_type": "markdown",
      "metadata": {
        "id": "FZfgxC2vtW-d"
      },
      "source": [
        "좋네요. 소프트맥스 회귀는 랜덤 포레스트 분류기보다 이 데이터셋에서 훈련하는데 더 많은 시간이 걸리고 테스트 세트에서의 성능도 더 나쁩니다. "
      ]
    }
  ]
}