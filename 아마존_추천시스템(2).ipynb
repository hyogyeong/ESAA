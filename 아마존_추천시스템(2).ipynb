{
  "nbformat": 4,
  "nbformat_minor": 0,
  "metadata": {
    "colab": {
      "name": "아마존 추천시스템(2)",
      "provenance": [],
      "authorship_tag": "ABX9TyP73Pr+LnqBTGtn4QG+aGYM",
      "include_colab_link": true
    },
    "kernelspec": {
      "name": "python3",
      "display_name": "Python 3"
    },
    "language_info": {
      "name": "python"
    }
  },
  "cells": [
    {
      "cell_type": "markdown",
      "metadata": {
        "id": "view-in-github",
        "colab_type": "text"
      },
      "source": [
        "<a href=\"https://colab.research.google.com/github/hyogyeong/ESAA/blob/main/%EC%95%84%EB%A7%88%EC%A1%B4_%EC%B6%94%EC%B2%9C%EC%8B%9C%EC%8A%A4%ED%85%9C(2).ipynb\" target=\"_parent\"><img src=\"https://colab.research.google.com/assets/colab-badge.svg\" alt=\"Open In Colab\"/></a>"
      ]
    },
    {
      "cell_type": "code",
      "metadata": {
        "colab": {
          "base_uri": "https://localhost:8080/"
        },
        "id": "D4LwD-0Ku7VO",
        "outputId": "e6303da3-0423-4660-e6ab-92afc5c05216"
      },
      "source": [
        "! pip install surprise"
      ],
      "execution_count": 1,
      "outputs": [
        {
          "output_type": "stream",
          "name": "stdout",
          "text": [
            "Collecting surprise\n",
            "  Downloading surprise-0.1-py2.py3-none-any.whl (1.8 kB)\n",
            "Collecting scikit-surprise\n",
            "  Downloading scikit-surprise-1.1.1.tar.gz (11.8 MB)\n",
            "\u001b[K     |████████████████████████████████| 11.8 MB 51 kB/s \n",
            "\u001b[?25hRequirement already satisfied: joblib>=0.11 in /usr/local/lib/python3.7/dist-packages (from scikit-surprise->surprise) (1.0.1)\n",
            "Requirement already satisfied: numpy>=1.11.2 in /usr/local/lib/python3.7/dist-packages (from scikit-surprise->surprise) (1.19.5)\n",
            "Requirement already satisfied: scipy>=1.0.0 in /usr/local/lib/python3.7/dist-packages (from scikit-surprise->surprise) (1.4.1)\n",
            "Requirement already satisfied: six>=1.10.0 in /usr/local/lib/python3.7/dist-packages (from scikit-surprise->surprise) (1.15.0)\n",
            "Building wheels for collected packages: scikit-surprise\n",
            "  Building wheel for scikit-surprise (setup.py) ... \u001b[?25l\u001b[?25hdone\n",
            "  Created wheel for scikit-surprise: filename=scikit_surprise-1.1.1-cp37-cp37m-linux_x86_64.whl size=1619436 sha256=55154db2601e758479074901d5178d57090ce73ef5b5a04e245eaa43898dc29a\n",
            "  Stored in directory: /root/.cache/pip/wheels/76/44/74/b498c42be47b2406bd27994e16c5188e337c657025ab400c1c\n",
            "Successfully built scikit-surprise\n",
            "Installing collected packages: scikit-surprise, surprise\n",
            "Successfully installed scikit-surprise-1.1.1 surprise-0.1\n"
          ]
        }
      ]
    },
    {
      "cell_type": "code",
      "metadata": {
        "id": "TzhJfO6PvGq8"
      },
      "source": [
        "from google.colab import files"
      ],
      "execution_count": 2,
      "outputs": []
    },
    {
      "cell_type": "code",
      "metadata": {
        "colab": {
          "resources": {
            "http://localhost:8080/nbextensions/google.colab/files.js": {
              "data": "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",
              "ok": true,
              "headers": [
                [
                  "content-type",
                  "application/javascript"
                ]
              ],
              "status": 200,
              "status_text": ""
            }
          },
          "base_uri": "https://localhost:8080/",
          "height": 77
        },
        "id": "WIwkZncXvGtv",
        "outputId": "aa0c7b2c-47b2-4aa9-b1c6-c8fee8ee55f8"
      },
      "source": [
        "uploaded = files.upload()"
      ],
      "execution_count": null,
      "outputs": [
        {
          "output_type": "display_data",
          "data": {
            "text/html": [
              "\n",
              "     <input type=\"file\" id=\"files-8d9c1340-c53b-4934-a830-7ad380bc1994\" name=\"files[]\" multiple disabled\n",
              "        style=\"border:none\" />\n",
              "     <output id=\"result-8d9c1340-c53b-4934-a830-7ad380bc1994\">\n",
              "      Upload widget is only available when the cell has been executed in the\n",
              "      current browser session. Please rerun this cell to enable.\n",
              "      </output>\n",
              "      <script src=\"/nbextensions/google.colab/files.js\"></script> "
            ],
            "text/plain": [
              "<IPython.core.display.HTML object>"
            ]
          },
          "metadata": {}
        },
        {
          "output_type": "stream",
          "name": "stdout",
          "text": [
            "Saving ratings_Electronics (1).csv to ratings_Electronics (1).csv\n"
          ]
        }
      ]
    },
    {
      "cell_type": "code",
      "metadata": {
        "id": "zOOf1K1bvgYD"
      },
      "source": [
        "import pandas as pd\n",
        "import numpy as np"
      ],
      "execution_count": 4,
      "outputs": []
    },
    {
      "cell_type": "code",
      "metadata": {
        "id": "SJmtnDA7vgaV"
      },
      "source": [
        "import torch\n",
        "from fastai import * "
      ],
      "execution_count": 5,
      "outputs": []
    },
    {
      "cell_type": "code",
      "metadata": {
        "id": "_Zipvd5KvGwm"
      },
      "source": [
        "import numpy as np # linear algebra\n",
        "import pandas as pd # data processing, CSV file I/O (e.g. pd.read_csv)\n",
        "import os\n",
        "from IPython.core.interactiveshell import InteractiveShell\n",
        "InteractiveShell.ast_node_interactivity = \"all\"\n",
        "import math\n",
        "import json\n",
        "import time\n",
        "import matplotlib.pyplot as plt\n",
        "import seaborn as sns\n",
        "from sklearn.metrics.pairwise import cosine_similarity\n",
        "from sklearn.model_selection import train_test_split\n",
        "from sklearn.neighbors import NearestNeighbors\n",
        "# from sklearn.externals import joblib\n",
        "import scipy.sparse\n",
        "from scipy.sparse import csr_matrix\n",
        "from scipy.sparse.linalg import svds\n",
        "import warnings; warnings.simplefilter('ignore')\n",
        "%matplotlib inline\n",
        "\n",
        "#for dirname, _, filenames in os.walk('/kaggle/input'):\n",
        "    #for filename in filenames:\n",
        "        #print(os.path.join(dirname, filename))"
      ],
      "execution_count": 6,
      "outputs": []
    },
    {
      "cell_type": "code",
      "metadata": {
        "id": "oVWXF3pqvGzj"
      },
      "source": [
        "electronics_data = pd.read_csv(\"ratings_Electronics (1).csv\",names=['userId', 'productId','Rating','timestamp'])"
      ],
      "execution_count": 7,
      "outputs": []
    },
    {
      "cell_type": "code",
      "metadata": {
        "id": "KlmsC3S6xKQu",
        "colab": {
          "base_uri": "https://localhost:8080/",
          "height": 204
        },
        "outputId": "57db4b08-4620-4478-fd67-a5b4c1bc8633"
      },
      "source": [
        "electronics_data.head()"
      ],
      "execution_count": 8,
      "outputs": [
        {
          "output_type": "execute_result",
          "data": {
            "text/html": [
              "<div>\n",
              "<style scoped>\n",
              "    .dataframe tbody tr th:only-of-type {\n",
              "        vertical-align: middle;\n",
              "    }\n",
              "\n",
              "    .dataframe tbody tr th {\n",
              "        vertical-align: top;\n",
              "    }\n",
              "\n",
              "    .dataframe thead th {\n",
              "        text-align: right;\n",
              "    }\n",
              "</style>\n",
              "<table border=\"1\" class=\"dataframe\">\n",
              "  <thead>\n",
              "    <tr style=\"text-align: right;\">\n",
              "      <th></th>\n",
              "      <th>userId</th>\n",
              "      <th>productId</th>\n",
              "      <th>Rating</th>\n",
              "      <th>timestamp</th>\n",
              "    </tr>\n",
              "  </thead>\n",
              "  <tbody>\n",
              "    <tr>\n",
              "      <th>0</th>\n",
              "      <td>AKM1MP6P0OYPR</td>\n",
              "      <td>0132793040</td>\n",
              "      <td>5.0</td>\n",
              "      <td>1365811200</td>\n",
              "    </tr>\n",
              "    <tr>\n",
              "      <th>1</th>\n",
              "      <td>A2CX7LUOHB2NDG</td>\n",
              "      <td>0321732944</td>\n",
              "      <td>5.0</td>\n",
              "      <td>1341100800</td>\n",
              "    </tr>\n",
              "    <tr>\n",
              "      <th>2</th>\n",
              "      <td>A2NWSAGRHCP8N5</td>\n",
              "      <td>0439886341</td>\n",
              "      <td>1.0</td>\n",
              "      <td>1367193600</td>\n",
              "    </tr>\n",
              "    <tr>\n",
              "      <th>3</th>\n",
              "      <td>A2WNBOD3WNDNKT</td>\n",
              "      <td>0439886341</td>\n",
              "      <td>3.0</td>\n",
              "      <td>1374451200</td>\n",
              "    </tr>\n",
              "    <tr>\n",
              "      <th>4</th>\n",
              "      <td>A1GI0U4ZRJA8WN</td>\n",
              "      <td>0439886341</td>\n",
              "      <td>1.0</td>\n",
              "      <td>1334707200</td>\n",
              "    </tr>\n",
              "  </tbody>\n",
              "</table>\n",
              "</div>"
            ],
            "text/plain": [
              "           userId   productId  Rating   timestamp\n",
              "0   AKM1MP6P0OYPR  0132793040     5.0  1365811200\n",
              "1  A2CX7LUOHB2NDG  0321732944     5.0  1341100800\n",
              "2  A2NWSAGRHCP8N5  0439886341     1.0  1367193600\n",
              "3  A2WNBOD3WNDNKT  0439886341     3.0  1374451200\n",
              "4  A1GI0U4ZRJA8WN  0439886341     1.0  1334707200"
            ]
          },
          "metadata": {},
          "execution_count": 8
        }
      ]
    },
    {
      "cell_type": "code",
      "metadata": {
        "id": "3-1LV6TZxKTp",
        "colab": {
          "base_uri": "https://localhost:8080/"
        },
        "outputId": "23c608c5-6c90-4b5b-abb5-d818d67a3172"
      },
      "source": [
        "electronics_data.shape"
      ],
      "execution_count": 9,
      "outputs": [
        {
          "output_type": "execute_result",
          "data": {
            "text/plain": [
              "(1544838, 4)"
            ]
          },
          "metadata": {},
          "execution_count": 9
        }
      ]
    },
    {
      "cell_type": "code",
      "metadata": {
        "id": "zaBEwEp3xKWz"
      },
      "source": [
        "eletronics_data = electronics_data.iloc[:1048576,0:]"
      ],
      "execution_count": 10,
      "outputs": []
    },
    {
      "cell_type": "code",
      "metadata": {
        "id": "xCCjmx8dxKZ3",
        "colab": {
          "base_uri": "https://localhost:8080/"
        },
        "outputId": "a6ff31f3-eb12-4179-d67a-f2d58fceccab"
      },
      "source": [
        "eletronics_data.dtypes"
      ],
      "execution_count": 11,
      "outputs": [
        {
          "output_type": "execute_result",
          "data": {
            "text/plain": [
              "userId        object\n",
              "productId     object\n",
              "Rating       float64\n",
              "timestamp      int64\n",
              "dtype: object"
            ]
          },
          "metadata": {},
          "execution_count": 11
        }
      ]
    },
    {
      "cell_type": "code",
      "metadata": {
        "id": "xQ6WHUqDyCs2",
        "colab": {
          "base_uri": "https://localhost:8080/"
        },
        "outputId": "be57af92-fdb5-4457-c43b-bb40d8dbd3f0"
      },
      "source": [
        "eletronics_data.describe()['Rating'].T"
      ],
      "execution_count": 12,
      "outputs": [
        {
          "output_type": "execute_result",
          "data": {
            "text/plain": [
              "count    1.048576e+06\n",
              "mean     3.973380e+00\n",
              "std      1.399329e+00\n",
              "min      1.000000e+00\n",
              "25%      3.000000e+00\n",
              "50%      5.000000e+00\n",
              "75%      5.000000e+00\n",
              "max      5.000000e+00\n",
              "Name: Rating, dtype: float64"
            ]
          },
          "metadata": {},
          "execution_count": 12
        }
      ]
    },
    {
      "cell_type": "code",
      "metadata": {
        "id": "0mb7gJxlyCvM",
        "colab": {
          "base_uri": "https://localhost:8080/"
        },
        "outputId": "73cf8b1f-c161-40fe-828d-84c668fcd570"
      },
      "source": [
        "print(\"max of rating : %d\" %(eletronics_data.Rating.max()))\n",
        "print(\"min of rating : %d\" %(eletronics_data.Rating.min()))"
      ],
      "execution_count": 13,
      "outputs": [
        {
          "output_type": "stream",
          "name": "stdout",
          "text": [
            "max of rating : 5\n",
            "min of rating : 1\n"
          ]
        }
      ]
    },
    {
      "cell_type": "markdown",
      "metadata": {
        "id": "MnwEPoVtyV_3"
      },
      "source": [
        "Missig Values 수"
      ]
    },
    {
      "cell_type": "code",
      "metadata": {
        "id": "F2E5HSfLyCxZ",
        "colab": {
          "base_uri": "https://localhost:8080/"
        },
        "outputId": "d6cbd0da-b473-4843-8681-1f34f7ba692d"
      },
      "source": [
        "print('Number of missing values across columns: \\n',electronics_data.isnull().sum())"
      ],
      "execution_count": 14,
      "outputs": [
        {
          "output_type": "stream",
          "name": "stdout",
          "text": [
            "Number of missing values across columns: \n",
            " userId       0\n",
            "productId    0\n",
            "Rating       0\n",
            "timestamp    0\n",
            "dtype: int64\n"
          ]
        }
      ]
    },
    {
      "cell_type": "markdown",
      "metadata": {
        "id": "pEG94brwydr0"
      },
      "source": [
        "Ratings"
      ]
    },
    {
      "cell_type": "code",
      "metadata": {
        "id": "YKf9lK4oyCz2",
        "colab": {
          "base_uri": "https://localhost:8080/",
          "height": 387
        },
        "outputId": "ca993d79-b685-42c2-92ed-4cd6bed3a6a0"
      },
      "source": [
        "with sns.axes_style('white'):\n",
        "    g = sns.factorplot(\"Rating\", data  = eletronics_data, aspect = 2.0, kind = 'count')\n",
        "    g.set_ylabels(\"Total number of ratings\")"
      ],
      "execution_count": 15,
      "outputs": [
        {
          "output_type": "execute_result",
          "data": {
            "text/plain": [
              "<seaborn.axisgrid.FacetGrid at 0x7f03033faed0>"
            ]
          },
          "metadata": {},
          "execution_count": 15
        },
        {
          "output_type": "display_data",
          "data": {
            "image/png": "[encoded data removed]",
            "text/plain": [
              "<Figure size 720x360 with 1 Axes>"
            ]
          },
          "metadata": {}
        }
      ]
    },
    {
      "cell_type": "code",
      "metadata": {
        "id": "3YrWKn6ByCE2",
        "colab": {
          "base_uri": "https://localhost:8080/"
        },
        "outputId": "554b1804-8702-478c-ad66-bf9714d266e6"
      },
      "source": [
        "print(\"Total data\")\n",
        "print(\"-\"*50)\n",
        "print(\"\\nTotal num of ratings :\", eletronics_data.shape[0])\n",
        "print(\"Total num of Users :\", len(np.unique(eletronics_data.userId)))\n",
        "print(\"Total num of products: \", len(np.unique(eletronics_data.productId)))"
      ],
      "execution_count": 16,
      "outputs": [
        {
          "output_type": "stream",
          "name": "stdout",
          "text": [
            "Total data\n",
            "--------------------------------------------------\n",
            "\n",
            "Total num of ratings : 1048576\n",
            "Total num of Users : 786330\n",
            "Total num of products:  61894\n"
          ]
        }
      ]
    },
    {
      "cell_type": "code",
      "metadata": {
        "id": "cfjXie3lyklp"
      },
      "source": [
        "eletronics_data.drop(['timestamp'],axis = 1, inplace = True)"
      ],
      "execution_count": 17,
      "outputs": []
    },
    {
      "cell_type": "markdown",
      "metadata": {
        "id": "aSCbCO2FymKq"
      },
      "source": [
        "Ratings 분석"
      ]
    },
    {
      "cell_type": "code",
      "metadata": {
        "id": "XF0mqZDpykoK",
        "colab": {
          "base_uri": "https://localhost:8080/"
        },
        "outputId": "8dcef72a-1bd0-4f76-cf8e-3734aacd9271"
      },
      "source": [
        "num_of_rated_products_per_user = eletronics_data.groupby(by = 'userId')['Rating'].count().sort_values(ascending=False)\n",
        "num_of_rated_products_per_user.head()"
      ],
      "execution_count": 18,
      "outputs": [
        {
          "output_type": "execute_result",
          "data": {
            "text/plain": [
              "userId\n",
              "A5JLAU2ARJ0BO     412\n",
              "A231WM2Z2JL0U3    249\n",
              "A25HBO5V8S8SEA    164\n",
              "A6FIAB28IS79      146\n",
              "AT6CZDCP4TRGA     128\n",
              "Name: Rating, dtype: int64"
            ]
          },
          "metadata": {},
          "execution_count": 18
        }
      ]
    },
    {
      "cell_type": "code",
      "metadata": {
        "id": "XhWZnL_uykq_",
        "colab": {
          "base_uri": "https://localhost:8080/"
        },
        "outputId": "8d0bbd56-6bef-475d-a18b-2cb944521537"
      },
      "source": [
        "num_of_rated_products_per_user.describe()"
      ],
      "execution_count": 19,
      "outputs": [
        {
          "output_type": "execute_result",
          "data": {
            "text/plain": [
              "count    786330.000000\n",
              "mean          1.333506\n",
              "std           1.385612\n",
              "min           1.000000\n",
              "25%           1.000000\n",
              "50%           1.000000\n",
              "75%           1.000000\n",
              "max         412.000000\n",
              "Name: Rating, dtype: float64"
            ]
          },
          "metadata": {},
          "execution_count": 19
        }
      ]
    },
    {
      "cell_type": "markdown",
      "metadata": {
        "id": "1SvxtAjVytD9"
      },
      "source": [
        "거의 모든 유저들이 하나의 상품에만 평가한 것을 알 수 있다."
      ]
    },
    {
      "cell_type": "code",
      "metadata": {
        "id": "M87tRfpOyktX"
      },
      "source": [
        "quantiles = num_of_rated_products_per_user.quantile(np.arange(0,1.01,0.01), interpolation='higher')"
      ],
      "execution_count": 20,
      "outputs": []
    },
    {
      "cell_type": "code",
      "metadata": {
        "id": "pSr5ZIR5ykv4",
        "colab": {
          "base_uri": "https://localhost:8080/",
          "height": 713
        },
        "outputId": "c29cb7e1-770c-4667-cff3-006af9deee49"
      },
      "source": [
        "plt.figure(figsize=(10,10))\n",
        "plt.title(\"Quantiles and their Values\")\n",
        "quantiles.plot()\n",
        "# quantiles with 0.05 difference\n",
        "plt.scatter(x=quantiles.index[::5], y=quantiles.values[::5], c='orange', label=\"quantiles with 0.05 intervals\")\n",
        "# quantiles with 0.25 difference\n",
        "plt.scatter(x=quantiles.index[::25], y=quantiles.values[::25], c='m', label = \"quantiles with 0.25 intervals\")\n",
        "plt.ylabel('No of ratings by user')\n",
        "plt.xlabel('Value at the quantile')\n",
        "plt.legend(loc='best')\n",
        "plt.show()"
      ],
      "execution_count": 21,
      "outputs": [
        {
          "output_type": "execute_result",
          "data": {
            "text/plain": [
              "<Figure size 720x720 with 0 Axes>"
            ]
          },
          "metadata": {},
          "execution_count": 21
        },
        {
          "output_type": "execute_result",
          "data": {
            "text/plain": [
              "Text(0.5, 1.0, 'Quantiles and their Values')"
            ]
          },
          "metadata": {},
          "execution_count": 21
        },
        {
          "output_type": "execute_result",
          "data": {
            "text/plain": [
              "<matplotlib.axes._subplots.AxesSubplot at 0x7f02f2fa69d0>"
            ]
          },
          "metadata": {},
          "execution_count": 21
        },
        {
          "output_type": "execute_result",
          "data": {
            "text/plain": [
              "<matplotlib.collections.PathCollection at 0x7f02f4b66510>"
            ]
          },
          "metadata": {},
          "execution_count": 21
        },
        {
          "output_type": "execute_result",
          "data": {
            "text/plain": [
              "<matplotlib.collections.PathCollection at 0x7f02f4b66990>"
            ]
          },
          "metadata": {},
          "execution_count": 21
        },
        {
          "output_type": "execute_result",
          "data": {
            "text/plain": [
              "Text(0, 0.5, 'No of ratings by user')"
            ]
          },
          "metadata": {},
          "execution_count": 21
        },
        {
          "output_type": "execute_result",
          "data": {
            "text/plain": [
              "Text(0.5, 0, 'Value at the quantile')"
            ]
          },
          "metadata": {},
          "execution_count": 21
        },
        {
          "output_type": "execute_result",
          "data": {
            "text/plain": [
              "<matplotlib.legend.Legend at 0x7f02f4b5ef10>"
            ]
          },
          "metadata": {},
          "execution_count": 21
        },
        {
          "output_type": "display_data",
          "data": {
            "image/png": "[encoded data removed]",
            "text/plain": [
              "<Figure size 720x720 with 1 Axes>"
            ]
          },
          "metadata": {
            "needs_background": "light"
          }
        }
      ]
    },
    {
      "cell_type": "code",
      "metadata": {
        "id": "1pn0jEHQyk0y",
        "colab": {
          "base_uri": "https://localhost:8080/"
        },
        "outputId": "84b75e2b-7948-438d-d357-ed3737e6498c"
      },
      "source": [
        "print('\\n No of rated product more than 50 per user : {}\\n'.format(sum(num_of_rated_products_per_user >= 50)) )"
      ],
      "execution_count": 22,
      "outputs": [
        {
          "output_type": "stream",
          "name": "stdout",
          "text": [
            "\n",
            " No of rated product more than 50 per user : 38\n",
            "\n"
          ]
        }
      ]
    },
    {
      "cell_type": "markdown",
      "metadata": {
        "id": "AqFHscj6y3ph"
      },
      "source": [
        "50개 이상의 상품을 평가한 유저 : 38명"
      ]
    },
    {
      "cell_type": "markdown",
      "metadata": {
        "id": "Xesmabksy-30"
      },
      "source": [
        "Popularity Based Recommendation"
      ]
    },
    {
      "cell_type": "code",
      "metadata": {
        "id": "sjXJ3eEGyk3N"
      },
      "source": [
        "new_df=electronics_data.groupby(\"productId\").filter(lambda x:x['Rating'].count() >=50)"
      ],
      "execution_count": 23,
      "outputs": []
    },
    {
      "cell_type": "markdown",
      "metadata": {
        "id": "LGzqxpmrzUtd"
      },
      "source": [
        "평가가 50번 이상 된 상품들을 가져옴"
      ]
    },
    {
      "cell_type": "code",
      "metadata": {
        "id": "Kz7kCiqlyk7j",
        "colab": {
          "base_uri": "https://localhost:8080/",
          "height": 204
        },
        "outputId": "1fa28651-7b27-4702-c2a7-2b0035333279"
      },
      "source": [
        "new_df.head()"
      ],
      "execution_count": 24,
      "outputs": [
        {
          "output_type": "execute_result",
          "data": {
            "text/html": [
              "<div>\n",
              "<style scoped>\n",
              "    .dataframe tbody tr th:only-of-type {\n",
              "        vertical-align: middle;\n",
              "    }\n",
              "\n",
              "    .dataframe tbody tr th {\n",
              "        vertical-align: top;\n",
              "    }\n",
              "\n",
              "    .dataframe thead th {\n",
              "        text-align: right;\n",
              "    }\n",
              "</style>\n",
              "<table border=\"1\" class=\"dataframe\">\n",
              "  <thead>\n",
              "    <tr style=\"text-align: right;\">\n",
              "      <th></th>\n",
              "      <th>userId</th>\n",
              "      <th>productId</th>\n",
              "      <th>Rating</th>\n",
              "      <th>timestamp</th>\n",
              "    </tr>\n",
              "  </thead>\n",
              "  <tbody>\n",
              "    <tr>\n",
              "      <th>183</th>\n",
              "      <td>A1BKC6B7YHYTVV</td>\n",
              "      <td>0972683275</td>\n",
              "      <td>4.0</td>\n",
              "      <td>1405382400</td>\n",
              "    </tr>\n",
              "    <tr>\n",
              "      <th>184</th>\n",
              "      <td>AWVFSIB42LHKJ</td>\n",
              "      <td>0972683275</td>\n",
              "      <td>4.0</td>\n",
              "      <td>1405209600</td>\n",
              "    </tr>\n",
              "    <tr>\n",
              "      <th>185</th>\n",
              "      <td>A36MQBNADRH8YY</td>\n",
              "      <td>0972683275</td>\n",
              "      <td>5.0</td>\n",
              "      <td>1405641600</td>\n",
              "    </tr>\n",
              "    <tr>\n",
              "      <th>186</th>\n",
              "      <td>A3SRXMPLAEZ6DP</td>\n",
              "      <td>0972683275</td>\n",
              "      <td>4.0</td>\n",
              "      <td>1405987200</td>\n",
              "    </tr>\n",
              "    <tr>\n",
              "      <th>187</th>\n",
              "      <td>A20XXTXWF2TCPY</td>\n",
              "      <td>0972683275</td>\n",
              "      <td>5.0</td>\n",
              "      <td>1405123200</td>\n",
              "    </tr>\n",
              "  </tbody>\n",
              "</table>\n",
              "</div>"
            ],
            "text/plain": [
              "             userId   productId  Rating   timestamp\n",
              "183  A1BKC6B7YHYTVV  0972683275     4.0  1405382400\n",
              "184   AWVFSIB42LHKJ  0972683275     4.0  1405209600\n",
              "185  A36MQBNADRH8YY  0972683275     5.0  1405641600\n",
              "186  A3SRXMPLAEZ6DP  0972683275     4.0  1405987200\n",
              "187  A20XXTXWF2TCPY  0972683275     5.0  1405123200"
            ]
          },
          "metadata": {},
          "execution_count": 24
        }
      ]
    },
    {
      "cell_type": "code",
      "metadata": {
        "id": "SKuKrqQdyk9k",
        "colab": {
          "base_uri": "https://localhost:8080/"
        },
        "outputId": "6879874b-8cd5-4c51-a640-732285ab714c"
      },
      "source": [
        "new_df.shape"
      ],
      "execution_count": 25,
      "outputs": [
        {
          "output_type": "execute_result",
          "data": {
            "text/plain": [
              "(1017324, 4)"
            ]
          },
          "metadata": {},
          "execution_count": 25
        }
      ]
    },
    {
      "cell_type": "code",
      "metadata": {
        "id": "phiEkvq0zaIi",
        "colab": {
          "base_uri": "https://localhost:8080/",
          "height": 341
        },
        "outputId": "1cedeba5-3b6c-4240-83fb-1de12ea3434b"
      },
      "source": [
        "num_of_ratings_per_product = new_df.groupby(by='productId')['Rating'].count().sort_values(ascending=False)\n",
        "\n",
        "fig = plt.figure(figsize=plt.figaspect(.5))\n",
        "ax = plt.gca()\n",
        "plt.plot(num_of_ratings_per_product.values)\n",
        "plt.title('# RATINGS per Product')\n",
        "plt.xlabel('Product')\n",
        "plt.ylabel('No of ratings per product')\n",
        "ax.set_xticklabels([])\n",
        "\n",
        "plt.show()"
      ],
      "execution_count": 26,
      "outputs": [
        {
          "output_type": "execute_result",
          "data": {
            "text/plain": [
              "[<matplotlib.lines.Line2D at 0x7f02f4860510>]"
            ]
          },
          "metadata": {},
          "execution_count": 26
        },
        {
          "output_type": "execute_result",
          "data": {
            "text/plain": [
              "Text(0.5, 1.0, '# RATINGS per Product')"
            ]
          },
          "metadata": {},
          "execution_count": 26
        },
        {
          "output_type": "execute_result",
          "data": {
            "text/plain": [
              "Text(0.5, 0, 'Product')"
            ]
          },
          "metadata": {},
          "execution_count": 26
        },
        {
          "output_type": "execute_result",
          "data": {
            "text/plain": [
              "Text(0, 0.5, 'No of ratings per product')"
            ]
          },
          "metadata": {},
          "execution_count": 26
        },
        {
          "output_type": "execute_result",
          "data": {
            "text/plain": [
              "[]"
            ]
          },
          "metadata": {},
          "execution_count": 26
        },
        {
          "output_type": "display_data",
          "data": {
            "image/png": "[encoded data removed]",
            "text/plain": [
              "<Figure size 576x288 with 1 Axes>"
            ]
          },
          "metadata": {
            "needs_background": "light"
          }
        }
      ]
    },
    {
      "cell_type": "markdown",
      "metadata": {
        "id": "csqx2cMjzdsV"
      },
      "source": [
        "각 상품 아이디별로 평가를 평균 내기"
      ]
    },
    {
      "cell_type": "code",
      "metadata": {
        "id": "zvbhYZZvzaK4",
        "colab": {
          "base_uri": "https://localhost:8080/"
        },
        "outputId": "1d18f2cd-966d-4b3e-be4d-f7280bafd254"
      },
      "source": [
        "new_df.groupby('productId')['Rating'].mean().head()"
      ],
      "execution_count": 27,
      "outputs": [
        {
          "output_type": "execute_result",
          "data": {
            "text/plain": [
              "productId\n",
              "0972683275    4.470980\n",
              "1400501466    3.560000\n",
              "1400501520    4.243902\n",
              "1400501776    3.884892\n",
              "1400532620    3.684211\n",
              "Name: Rating, dtype: float64"
            ]
          },
          "metadata": {},
          "execution_count": 27
        }
      ]
    },
    {
      "cell_type": "markdown",
      "metadata": {
        "id": "E-qoTGZizwrd"
      },
      "source": [
        "sorting"
      ]
    },
    {
      "cell_type": "code",
      "metadata": {
        "id": "CJBY9X9OzaNi",
        "colab": {
          "base_uri": "https://localhost:8080/"
        },
        "outputId": "17574625-698c-42f2-d49e-6a9d85b09232"
      },
      "source": [
        "new_df.groupby('productId')['Rating'].mean().sort_values(ascending=False).head()"
      ],
      "execution_count": 28,
      "outputs": [
        {
          "output_type": "execute_result",
          "data": {
            "text/plain": [
              "productId\n",
              "B000TMFYBO    4.953125\n",
              "B0000DYV9H    4.947368\n",
              "B000053HC5    4.945783\n",
              "B00009R96C    4.885714\n",
              "B00005LE76    4.879310\n",
              "Name: Rating, dtype: float64"
            ]
          },
          "metadata": {},
          "execution_count": 28
        }
      ]
    },
    {
      "cell_type": "markdown",
      "metadata": {
        "id": "gcuSkc-JzzDR"
      },
      "source": [
        "각 상품별 평가 받은 수 기준으로 내림차순 정렬"
      ]
    },
    {
      "cell_type": "code",
      "metadata": {
        "id": "X65dlqwAzaQD",
        "colab": {
          "base_uri": "https://localhost:8080/"
        },
        "outputId": "61bd12c9-b703-4aec-b625-3de5adfa6a84"
      },
      "source": [
        "new_df.groupby('productId')['Rating'].count().sort_values(ascending=False).head()"
      ],
      "execution_count": 29,
      "outputs": [
        {
          "output_type": "execute_result",
          "data": {
            "text/plain": [
              "productId\n",
              "B0002L5R78    9487\n",
              "B000LRMS66    8715\n",
              "B0001FTVEK    5345\n",
              "B000I68BD4    4903\n",
              "B000S5Q9CA    4690\n",
              "Name: Rating, dtype: int64"
            ]
          },
          "metadata": {},
          "execution_count": 29
        }
      ]
    },
    {
      "cell_type": "code",
      "metadata": {
        "id": "TFsS5LSXzaS_"
      },
      "source": [
        "ratings_mean_count = pd.DataFrame(new_df.groupby('productId')['Rating'].mean())"
      ],
      "execution_count": 30,
      "outputs": []
    },
    {
      "cell_type": "code",
      "metadata": {
        "id": "t5e5smV-zaVW",
        "colab": {
          "base_uri": "https://localhost:8080/",
          "height": 235
        },
        "outputId": "a3a74b7d-5205-42d9-b809-d2658cb2e843"
      },
      "source": [
        "ratings_mean_count.head()"
      ],
      "execution_count": 31,
      "outputs": [
        {
          "output_type": "execute_result",
          "data": {
            "text/html": [
              "<div>\n",
              "<style scoped>\n",
              "    .dataframe tbody tr th:only-of-type {\n",
              "        vertical-align: middle;\n",
              "    }\n",
              "\n",
              "    .dataframe tbody tr th {\n",
              "        vertical-align: top;\n",
              "    }\n",
              "\n",
              "    .dataframe thead th {\n",
              "        text-align: right;\n",
              "    }\n",
              "</style>\n",
              "<table border=\"1\" class=\"dataframe\">\n",
              "  <thead>\n",
              "    <tr style=\"text-align: right;\">\n",
              "      <th></th>\n",
              "      <th>Rating</th>\n",
              "    </tr>\n",
              "    <tr>\n",
              "      <th>productId</th>\n",
              "      <th></th>\n",
              "    </tr>\n",
              "  </thead>\n",
              "  <tbody>\n",
              "    <tr>\n",
              "      <th>0972683275</th>\n",
              "      <td>4.470980</td>\n",
              "    </tr>\n",
              "    <tr>\n",
              "      <th>1400501466</th>\n",
              "      <td>3.560000</td>\n",
              "    </tr>\n",
              "    <tr>\n",
              "      <th>1400501520</th>\n",
              "      <td>4.243902</td>\n",
              "    </tr>\n",
              "    <tr>\n",
              "      <th>1400501776</th>\n",
              "      <td>3.884892</td>\n",
              "    </tr>\n",
              "    <tr>\n",
              "      <th>1400532620</th>\n",
              "      <td>3.684211</td>\n",
              "    </tr>\n",
              "  </tbody>\n",
              "</table>\n",
              "</div>"
            ],
            "text/plain": [
              "              Rating\n",
              "productId           \n",
              "0972683275  4.470980\n",
              "1400501466  3.560000\n",
              "1400501520  4.243902\n",
              "1400501776  3.884892\n",
              "1400532620  3.684211"
            ]
          },
          "metadata": {},
          "execution_count": 31
        }
      ]
    },
    {
      "cell_type": "code",
      "metadata": {
        "id": "-EyT5_upzaX0"
      },
      "source": [
        "ratings_mean_count['rating_counts'] = pd.DataFrame(new_df.groupby('productId')['Rating'].count())"
      ],
      "execution_count": 32,
      "outputs": []
    },
    {
      "cell_type": "code",
      "metadata": {
        "id": "9Ty6PkkRzaa4",
        "colab": {
          "base_uri": "https://localhost:8080/"
        },
        "outputId": "ea3046d7-57aa-42f3-eb85-f3b291e1567c"
      },
      "source": [
        "ratings_mean_count['rating_counts'].max()"
      ],
      "execution_count": 33,
      "outputs": [
        {
          "output_type": "execute_result",
          "data": {
            "text/plain": [
              "9487"
            ]
          },
          "metadata": {},
          "execution_count": 33
        }
      ]
    },
    {
      "cell_type": "code",
      "metadata": {
        "id": "7JAf_9Lkz8nF",
        "colab": {
          "base_uri": "https://localhost:8080/",
          "height": 392
        },
        "outputId": "a92ee26f-d367-4782-8743-bfaf63007ae3"
      },
      "source": [
        "plt.figure(figsize=(6,6))\n",
        "plt.rcParams['patch.force_edgecolor']=True\n",
        "ratings_mean_count['rating_counts'].hist(bins=50)"
      ],
      "execution_count": 34,
      "outputs": [
        {
          "output_type": "execute_result",
          "data": {
            "text/plain": [
              "<Figure size 432x432 with 0 Axes>"
            ]
          },
          "metadata": {},
          "execution_count": 34
        },
        {
          "output_type": "execute_result",
          "data": {
            "text/plain": [
              "<matplotlib.axes._subplots.AxesSubplot at 0x7f02f3267350>"
            ]
          },
          "metadata": {},
          "execution_count": 34
        },
        {
          "output_type": "display_data",
          "data": {
            "image/png": "[encoded data removed]",
            "text/plain": [
              "<Figure size 432x432 with 1 Axes>"
            ]
          },
          "metadata": {
            "needs_background": "light"
          }
        }
      ]
    },
    {
      "cell_type": "code",
      "metadata": {
        "id": "g0qFYnVWz8py",
        "colab": {
          "base_uri": "https://localhost:8080/",
          "height": 392
        },
        "outputId": "4ec77437-5768-4dba-8d5e-ee9fb23c3b84"
      },
      "source": [
        "plt.figure(figsize=(8,6))\n",
        "plt.rcParams['patch.force_edgecolor']=True\n",
        "ratings_mean_count['Rating'].hist(bins=50)"
      ],
      "execution_count": 35,
      "outputs": [
        {
          "output_type": "execute_result",
          "data": {
            "text/plain": [
              "<Figure size 576x432 with 0 Axes>"
            ]
          },
          "metadata": {},
          "execution_count": 35
        },
        {
          "output_type": "execute_result",
          "data": {
            "text/plain": [
              "<matplotlib.axes._subplots.AxesSubplot at 0x7f02f3252e10>"
            ]
          },
          "metadata": {},
          "execution_count": 35
        },
        {
          "output_type": "display_data",
          "data": {
            "image/png": "[encoded data removed]",
            "text/plain": [
              "<Figure size 576x432 with 1 Axes>"
            ]
          },
          "metadata": {
            "needs_background": "light"
          }
        }
      ]
    },
    {
      "cell_type": "code",
      "metadata": {
        "id": "bygW4Iy_z8wx",
        "colab": {
          "base_uri": "https://localhost:8080/",
          "height": 477
        },
        "outputId": "93db5e86-b6a0-4c08-de13-a07b9d1b3c26"
      },
      "source": [
        "plt.figure(figsize=(8,6))\n",
        "plt.rcParams['patch.force_edgecolor'] = True\n",
        "sns.jointplot(x='Rating', y='rating_counts', data=ratings_mean_count, alpha=0.4)"
      ],
      "execution_count": 36,
      "outputs": [
        {
          "output_type": "execute_result",
          "data": {
            "text/plain": [
              "<Figure size 576x432 with 0 Axes>"
            ]
          },
          "metadata": {},
          "execution_count": 36
        },
        {
          "output_type": "execute_result",
          "data": {
            "text/plain": [
              "<seaborn.axisgrid.JointGrid at 0x7f02f3cdf3d0>"
            ]
          },
          "metadata": {},
          "execution_count": 36
        },
        {
          "output_type": "display_data",
          "data": {
            "text/plain": [
              "<Figure size 576x432 with 0 Axes>"
            ]
          },
          "metadata": {}
        },
        {
          "output_type": "display_data",
          "data": {
            "image/png": "[encoded data removed]",
            "text/plain": [
              "<Figure size 432x432 with 3 Axes>"
            ]
          },
          "metadata": {
            "needs_background": "light"
          }
        }
      ]
    },
    {
      "cell_type": "code",
      "metadata": {
        "id": "rPrXUbe7z8zP",
        "colab": {
          "base_uri": "https://localhost:8080/",
          "height": 358
        },
        "outputId": "46d36f85-04f0-46d9-8bcb-cc2f7e921a6e"
      },
      "source": [
        "popular_products = pd.DataFrame(new_df.groupby('productId')['Rating'].count())\n",
        "most_popular = popular_products.sort_values(\"Rating\", ascending=False)\n",
        "most_popular.head(30).plot(kind = \"bar\")"
      ],
      "execution_count": 37,
      "outputs": [
        {
          "output_type": "execute_result",
          "data": {
            "text/plain": [
              "<matplotlib.axes._subplots.AxesSubplot at 0x7f02f37c9f90>"
            ]
          },
          "metadata": {},
          "execution_count": 37
        },
        {
          "output_type": "display_data",
          "data": {
            "image/png": "[encoded data removed]",
            "text/plain": [
              "<Figure size 432x288 with 1 Axes>"
            ]
          },
          "metadata": {
            "needs_background": "light"
          }
        }
      ]
    },
    {
      "cell_type": "markdown",
      "metadata": {
        "id": "kdOJ5UIy0CPt"
      },
      "source": [
        "Collaborative Filtering 이용"
      ]
    },
    {
      "cell_type": "code",
      "metadata": {
        "id": "Lf82AMQ3z81x"
      },
      "source": [
        "from surprise import KNNWithMeans\n",
        "from surprise import Dataset\n",
        "from surprise import accuracy\n",
        "from surprise import Reader\n",
        "import os\n",
        "from surprise.model_selection import train_test_split"
      ],
      "execution_count": 38,
      "outputs": []
    },
    {
      "cell_type": "markdown",
      "metadata": {
        "id": "jDFi11LE0KsM"
      },
      "source": [
        "1) Data 가져오기"
      ]
    },
    {
      "cell_type": "code",
      "metadata": {
        "id": "4onHwSK90ILl"
      },
      "source": [
        "new_df.drop(['timestamp'],axis = 1, inplace = True)"
      ],
      "execution_count": 39,
      "outputs": []
    },
    {
      "cell_type": "code",
      "metadata": {
        "id": "PLTGrcCF0IOC"
      },
      "source": [
        "reader = Reader(rating_scale=(1,5))\n",
        "data = Dataset.load_from_df(new_df,reader)"
      ],
      "execution_count": 40,
      "outputs": []
    },
    {
      "cell_type": "markdown",
      "metadata": {
        "id": "-DcgqFtq0N0M"
      },
      "source": [
        "2) Trainset, Testset으로 나누기"
      ]
    },
    {
      "cell_type": "code",
      "metadata": {
        "id": "UIZ9Jh5A0IRa"
      },
      "source": [
        "trainset, testset = train_test_split(data, test_size = 0.3, random_state=10)"
      ],
      "execution_count": 41,
      "outputs": []
    },
    {
      "cell_type": "markdown",
      "metadata": {
        "id": "cuDitgAY0Q_p"
      },
      "source": [
        "3) KNN을 이용 trainset에 파라미터 맞추기"
      ]
    },
    {
      "cell_type": "code",
      "metadata": {
        "id": "BZsoqBI20ITW",
        "colab": {
          "base_uri": "https://localhost:8080/"
        },
        "outputId": "242a9602-03b0-4f7c-ca88-c0df67680274"
      },
      "source": [
        "algo = KNNWithMeans(k=5, sim_options = {'name': 'pearson_baseline', 'user_based':False})\n",
        "algo.fit(trainset)"
      ],
      "execution_count": 42,
      "outputs": [
        {
          "output_type": "stream",
          "name": "stdout",
          "text": [
            "Estimating biases using als...\n",
            "Computing the pearson_baseline similarity matrix...\n",
            "Done computing similarity matrix.\n"
          ]
        },
        {
          "output_type": "execute_result",
          "data": {
            "text/plain": [
              "<surprise.prediction_algorithms.knns.KNNWithMeans at 0x7f02dce05390>"
            ]
          },
          "metadata": {},
          "execution_count": 42
        }
      ]
    },
    {
      "cell_type": "markdown",
      "metadata": {
        "id": "nTI6GDhM0XBt"
      },
      "source": [
        "4) Test accuracy 측정"
      ]
    },
    {
      "cell_type": "code",
      "metadata": {
        "id": "XC4Ifyo1z84U"
      },
      "source": [
        "test_pred = algo.test(testset)"
      ],
      "execution_count": 43,
      "outputs": []
    },
    {
      "cell_type": "code",
      "metadata": {
        "id": "zWHtb2SFz87l",
        "colab": {
          "base_uri": "https://localhost:8080/"
        },
        "outputId": "a49656da-eace-4ceb-80ce-364106de16b4"
      },
      "source": [
        "print(\"Item-based Model : Test Set\")\n",
        "accuracy.rmse(test_pred, verbose=True)"
      ],
      "execution_count": 44,
      "outputs": [
        {
          "output_type": "stream",
          "name": "stdout",
          "text": [
            "Item-based Model : Test Set\n",
            "RMSE: 1.3380\n"
          ]
        },
        {
          "output_type": "execute_result",
          "data": {
            "text/plain": [
              "1.3379847957703965"
            ]
          },
          "metadata": {},
          "execution_count": 44
        }
      ]
    },
    {
      "cell_type": "markdown",
      "metadata": {
        "id": "DJYBxvPM0abq"
      },
      "source": [
        "# Model-based collaborative filtering syste"
      ]
    },
    {
      "cell_type": "markdown",
      "metadata": {
        "id": "HWHJabsT0cWp"
      },
      "source": [
        "대량의 상품, 많은 사용자들에게 추천 가능, sparse한 matrices에도 사용가능"
      ]
    },
    {
      "cell_type": "code",
      "metadata": {
        "id": "xzjT07d-0ZLi",
        "colab": {
          "base_uri": "https://localhost:8080/",
          "height": 255
        },
        "outputId": "20c03f1c-5edb-4cdb-dca1-ec71a2892b50"
      },
      "source": [
        "new_df1 = new_df.head(10000)\n",
        "ratings_matrix = new_df1.pivot_table(values ='Rating', index ='userId', columns ='productId',fill_value =0)\n",
        "ratings_matrix.head()"
      ],
      "execution_count": 45,
      "outputs": [
        {
          "output_type": "execute_result",
          "data": {
            "text/html": [
              "<div>\n",
              "<style scoped>\n",
              "    .dataframe tbody tr th:only-of-type {\n",
              "        vertical-align: middle;\n",
              "    }\n",
              "\n",
              "    .dataframe tbody tr th {\n",
              "        vertical-align: top;\n",
              "    }\n",
              "\n",
              "    .dataframe thead th {\n",
              "        text-align: right;\n",
              "    }\n",
              "</style>\n",
              "<table border=\"1\" class=\"dataframe\">\n",
              "  <thead>\n",
              "    <tr style=\"text-align: right;\">\n",
              "      <th>productId</th>\n",
              "      <th>0972683275</th>\n",
              "      <th>1400501466</th>\n",
              "      <th>1400501520</th>\n",
              "      <th>1400501776</th>\n",
              "      <th>1400532620</th>\n",
              "      <th>1400532655</th>\n",
              "      <th>140053271X</th>\n",
              "      <th>1400532736</th>\n",
              "      <th>1400599997</th>\n",
              "      <th>1400698987</th>\n",
              "      <th>3744295508</th>\n",
              "      <th>6301977173</th>\n",
              "      <th>7214047977</th>\n",
              "      <th>8862935293</th>\n",
              "      <th>9573212919</th>\n",
              "      <th>9575871979</th>\n",
              "      <th>9625993428</th>\n",
              "      <th>9888002198</th>\n",
              "      <th>9966694544</th>\n",
              "      <th>9983891212</th>\n",
              "      <th>9984984354</th>\n",
              "      <th>9985511476</th>\n",
              "      <th>B000001OM4</th>\n",
              "      <th>B000001OM5</th>\n",
              "      <th>B000001OMI</th>\n",
              "      <th>B000001ON6</th>\n",
              "      <th>B00000DM9W</th>\n",
              "      <th>B00000IGBF</th>\n",
              "      <th>B00000J05A</th>\n",
              "      <th>B00000J061</th>\n",
              "      <th>B00000J08Q</th>\n",
              "      <th>B00000J0D2</th>\n",
              "      <th>B00000J0D5</th>\n",
              "      <th>B00000J0D8</th>\n",
              "      <th>B00000J1EJ</th>\n",
              "      <th>B00000J1EP</th>\n",
              "      <th>B00000J1EQ</th>\n",
              "      <th>B00000J1F3</th>\n",
              "      <th>B00000J1GA</th>\n",
              "      <th>B00000J1QK</th>\n",
              "      <th>B00000J1QR</th>\n",
              "      <th>B00000J1SC</th>\n",
              "      <th>B00000J1TX</th>\n",
              "      <th>B00000J1U8</th>\n",
              "      <th>B00000J1UQ</th>\n",
              "      <th>B00000J1V3</th>\n",
              "      <th>B00000J1V5</th>\n",
              "      <th>B00000J3NF</th>\n",
              "      <th>B00000J3Q7</th>\n",
              "      <th>B00000J3UJ</th>\n",
              "      <th>B00000J434</th>\n",
              "      <th>B00000J4EY</th>\n",
              "      <th>B00000J4FS</th>\n",
              "      <th>B00000J4GE</th>\n",
              "      <th>B00000J6WY</th>\n",
              "      <th>B00000JBAT</th>\n",
              "      <th>B00000JBHP</th>\n",
              "      <th>B00000JBPB</th>\n",
              "      <th>B00000JCT8</th>\n",
              "      <th>B00000JCTO</th>\n",
              "      <th>B00000JD34</th>\n",
              "      <th>B00000JDF5</th>\n",
              "      <th>B00000JDF6</th>\n",
              "      <th>B00000JDHV</th>\n",
              "      <th>B00000JFE3</th>\n",
              "      <th>B00000JFIF</th>\n",
              "      <th>B00000JFMK</th>\n",
              "      <th>B00000JHWX</th>\n",
              "      <th>B00000JI4F</th>\n",
              "      <th>B00000JII6</th>\n",
              "      <th>B00000JMUG</th>\n",
              "      <th>B00000JPPI</th>\n",
              "      <th>B00000JSGF</th>\n",
              "      <th>B00000JYLO</th>\n",
              "      <th>B00000JYWQ</th>\n",
              "      <th>B00000K135</th>\n",
              "    </tr>\n",
              "    <tr>\n",
              "      <th>userId</th>\n",
              "      <th></th>\n",
              "      <th></th>\n",
              "      <th></th>\n",
              "      <th></th>\n",
              "      <th></th>\n",
              "      <th></th>\n",
              "      <th></th>\n",
              "      <th></th>\n",
              "      <th></th>\n",
              "      <th></th>\n",
              "      <th></th>\n",
              "      <th></th>\n",
              "      <th></th>\n",
              "      <th></th>\n",
              "      <th></th>\n",
              "      <th></th>\n",
              "      <th></th>\n",
              "      <th></th>\n",
              "      <th></th>\n",
              "      <th></th>\n",
              "      <th></th>\n",
              "      <th></th>\n",
              "      <th></th>\n",
              "      <th></th>\n",
              "      <th></th>\n",
              "      <th></th>\n",
              "      <th></th>\n",
              "      <th></th>\n",
              "      <th></th>\n",
              "      <th></th>\n",
              "      <th></th>\n",
              "      <th></th>\n",
              "      <th></th>\n",
              "      <th></th>\n",
              "      <th></th>\n",
              "      <th></th>\n",
              "      <th></th>\n",
              "      <th></th>\n",
              "      <th></th>\n",
              "      <th></th>\n",
              "      <th></th>\n",
              "      <th></th>\n",
              "      <th></th>\n",
              "      <th></th>\n",
              "      <th></th>\n",
              "      <th></th>\n",
              "      <th></th>\n",
              "      <th></th>\n",
              "      <th></th>\n",
              "      <th></th>\n",
              "      <th></th>\n",
              "      <th></th>\n",
              "      <th></th>\n",
              "      <th></th>\n",
              "      <th></th>\n",
              "      <th></th>\n",
              "      <th></th>\n",
              "      <th></th>\n",
              "      <th></th>\n",
              "      <th></th>\n",
              "      <th></th>\n",
              "      <th></th>\n",
              "      <th></th>\n",
              "      <th></th>\n",
              "      <th></th>\n",
              "      <th></th>\n",
              "      <th></th>\n",
              "      <th></th>\n",
              "      <th></th>\n",
              "      <th></th>\n",
              "      <th></th>\n",
              "      <th></th>\n",
              "      <th></th>\n",
              "      <th></th>\n",
              "      <th></th>\n",
              "      <th></th>\n",
              "    </tr>\n",
              "  </thead>\n",
              "  <tbody>\n",
              "    <tr>\n",
              "      <th>A01852072Z7B68UHLI5UG</th>\n",
              "      <td>0</td>\n",
              "      <td>0</td>\n",
              "      <td>0</td>\n",
              "      <td>0</td>\n",
              "      <td>0</td>\n",
              "      <td>0</td>\n",
              "      <td>0</td>\n",
              "      <td>0</td>\n",
              "      <td>0</td>\n",
              "      <td>0</td>\n",
              "      <td>0</td>\n",
              "      <td>0</td>\n",
              "      <td>0</td>\n",
              "      <td>0</td>\n",
              "      <td>0</td>\n",
              "      <td>0</td>\n",
              "      <td>0</td>\n",
              "      <td>0</td>\n",
              "      <td>0</td>\n",
              "      <td>0</td>\n",
              "      <td>0</td>\n",
              "      <td>0</td>\n",
              "      <td>0</td>\n",
              "      <td>0</td>\n",
              "      <td>0</td>\n",
              "      <td>0</td>\n",
              "      <td>0</td>\n",
              "      <td>0</td>\n",
              "      <td>0</td>\n",
              "      <td>0</td>\n",
              "      <td>0</td>\n",
              "      <td>0</td>\n",
              "      <td>0</td>\n",
              "      <td>0</td>\n",
              "      <td>0</td>\n",
              "      <td>0</td>\n",
              "      <td>0</td>\n",
              "      <td>0</td>\n",
              "      <td>0</td>\n",
              "      <td>0</td>\n",
              "      <td>0</td>\n",
              "      <td>0</td>\n",
              "      <td>0</td>\n",
              "      <td>0</td>\n",
              "      <td>0</td>\n",
              "      <td>0</td>\n",
              "      <td>4</td>\n",
              "      <td>0</td>\n",
              "      <td>0</td>\n",
              "      <td>0</td>\n",
              "      <td>0</td>\n",
              "      <td>0</td>\n",
              "      <td>0</td>\n",
              "      <td>0</td>\n",
              "      <td>0</td>\n",
              "      <td>0</td>\n",
              "      <td>0</td>\n",
              "      <td>0</td>\n",
              "      <td>0</td>\n",
              "      <td>0</td>\n",
              "      <td>0</td>\n",
              "      <td>0</td>\n",
              "      <td>0</td>\n",
              "      <td>0</td>\n",
              "      <td>0</td>\n",
              "      <td>0</td>\n",
              "      <td>0</td>\n",
              "      <td>0</td>\n",
              "      <td>0</td>\n",
              "      <td>0</td>\n",
              "      <td>0</td>\n",
              "      <td>0</td>\n",
              "      <td>0</td>\n",
              "      <td>0</td>\n",
              "      <td>0</td>\n",
              "      <td>0</td>\n",
              "    </tr>\n",
              "    <tr>\n",
              "      <th>A0266076X6KPZ6CCHGVS</th>\n",
              "      <td>0</td>\n",
              "      <td>0</td>\n",
              "      <td>0</td>\n",
              "      <td>0</td>\n",
              "      <td>0</td>\n",
              "      <td>0</td>\n",
              "      <td>0</td>\n",
              "      <td>0</td>\n",
              "      <td>0</td>\n",
              "      <td>0</td>\n",
              "      <td>0</td>\n",
              "      <td>0</td>\n",
              "      <td>0</td>\n",
              "      <td>0</td>\n",
              "      <td>0</td>\n",
              "      <td>0</td>\n",
              "      <td>0</td>\n",
              "      <td>0</td>\n",
              "      <td>0</td>\n",
              "      <td>0</td>\n",
              "      <td>0</td>\n",
              "      <td>0</td>\n",
              "      <td>0</td>\n",
              "      <td>0</td>\n",
              "      <td>0</td>\n",
              "      <td>0</td>\n",
              "      <td>0</td>\n",
              "      <td>0</td>\n",
              "      <td>0</td>\n",
              "      <td>0</td>\n",
              "      <td>0</td>\n",
              "      <td>0</td>\n",
              "      <td>0</td>\n",
              "      <td>0</td>\n",
              "      <td>0</td>\n",
              "      <td>0</td>\n",
              "      <td>0</td>\n",
              "      <td>0</td>\n",
              "      <td>0</td>\n",
              "      <td>0</td>\n",
              "      <td>5</td>\n",
              "      <td>0</td>\n",
              "      <td>0</td>\n",
              "      <td>0</td>\n",
              "      <td>0</td>\n",
              "      <td>0</td>\n",
              "      <td>0</td>\n",
              "      <td>0</td>\n",
              "      <td>0</td>\n",
              "      <td>0</td>\n",
              "      <td>0</td>\n",
              "      <td>0</td>\n",
              "      <td>0</td>\n",
              "      <td>0</td>\n",
              "      <td>0</td>\n",
              "      <td>0</td>\n",
              "      <td>0</td>\n",
              "      <td>0</td>\n",
              "      <td>0</td>\n",
              "      <td>0</td>\n",
              "      <td>0</td>\n",
              "      <td>0</td>\n",
              "      <td>0</td>\n",
              "      <td>0</td>\n",
              "      <td>0</td>\n",
              "      <td>0</td>\n",
              "      <td>0</td>\n",
              "      <td>0</td>\n",
              "      <td>0</td>\n",
              "      <td>0</td>\n",
              "      <td>0</td>\n",
              "      <td>0</td>\n",
              "      <td>0</td>\n",
              "      <td>0</td>\n",
              "      <td>0</td>\n",
              "      <td>0</td>\n",
              "    </tr>\n",
              "    <tr>\n",
              "      <th>A0293130VTX2ZXA70JQS</th>\n",
              "      <td>5</td>\n",
              "      <td>0</td>\n",
              "      <td>0</td>\n",
              "      <td>0</td>\n",
              "      <td>0</td>\n",
              "      <td>0</td>\n",
              "      <td>0</td>\n",
              "      <td>0</td>\n",
              "      <td>0</td>\n",
              "      <td>0</td>\n",
              "      <td>0</td>\n",
              "      <td>0</td>\n",
              "      <td>0</td>\n",
              "      <td>0</td>\n",
              "      <td>0</td>\n",
              "      <td>0</td>\n",
              "      <td>0</td>\n",
              "      <td>0</td>\n",
              "      <td>0</td>\n",
              "      <td>0</td>\n",
              "      <td>0</td>\n",
              "      <td>0</td>\n",
              "      <td>0</td>\n",
              "      <td>0</td>\n",
              "      <td>0</td>\n",
              "      <td>0</td>\n",
              "      <td>0</td>\n",
              "      <td>0</td>\n",
              "      <td>0</td>\n",
              "      <td>0</td>\n",
              "      <td>0</td>\n",
              "      <td>0</td>\n",
              "      <td>0</td>\n",
              "      <td>0</td>\n",
              "      <td>0</td>\n",
              "      <td>0</td>\n",
              "      <td>0</td>\n",
              "      <td>0</td>\n",
              "      <td>0</td>\n",
              "      <td>0</td>\n",
              "      <td>0</td>\n",
              "      <td>0</td>\n",
              "      <td>0</td>\n",
              "      <td>0</td>\n",
              "      <td>0</td>\n",
              "      <td>0</td>\n",
              "      <td>0</td>\n",
              "      <td>0</td>\n",
              "      <td>0</td>\n",
              "      <td>0</td>\n",
              "      <td>0</td>\n",
              "      <td>0</td>\n",
              "      <td>0</td>\n",
              "      <td>0</td>\n",
              "      <td>0</td>\n",
              "      <td>0</td>\n",
              "      <td>0</td>\n",
              "      <td>0</td>\n",
              "      <td>0</td>\n",
              "      <td>0</td>\n",
              "      <td>0</td>\n",
              "      <td>0</td>\n",
              "      <td>0</td>\n",
              "      <td>0</td>\n",
              "      <td>0</td>\n",
              "      <td>0</td>\n",
              "      <td>0</td>\n",
              "      <td>0</td>\n",
              "      <td>0</td>\n",
              "      <td>0</td>\n",
              "      <td>0</td>\n",
              "      <td>0</td>\n",
              "      <td>0</td>\n",
              "      <td>0</td>\n",
              "      <td>0</td>\n",
              "      <td>0</td>\n",
              "    </tr>\n",
              "    <tr>\n",
              "      <th>A030530627MK66BD8V4LN</th>\n",
              "      <td>4</td>\n",
              "      <td>0</td>\n",
              "      <td>0</td>\n",
              "      <td>0</td>\n",
              "      <td>0</td>\n",
              "      <td>0</td>\n",
              "      <td>0</td>\n",
              "      <td>0</td>\n",
              "      <td>0</td>\n",
              "      <td>0</td>\n",
              "      <td>0</td>\n",
              "      <td>0</td>\n",
              "      <td>0</td>\n",
              "      <td>0</td>\n",
              "      <td>0</td>\n",
              "      <td>0</td>\n",
              "      <td>0</td>\n",
              "      <td>0</td>\n",
              "      <td>0</td>\n",
              "      <td>0</td>\n",
              "      <td>0</td>\n",
              "      <td>0</td>\n",
              "      <td>0</td>\n",
              "      <td>0</td>\n",
              "      <td>0</td>\n",
              "      <td>0</td>\n",
              "      <td>0</td>\n",
              "      <td>0</td>\n",
              "      <td>0</td>\n",
              "      <td>0</td>\n",
              "      <td>0</td>\n",
              "      <td>0</td>\n",
              "      <td>0</td>\n",
              "      <td>0</td>\n",
              "      <td>0</td>\n",
              "      <td>0</td>\n",
              "      <td>0</td>\n",
              "      <td>0</td>\n",
              "      <td>0</td>\n",
              "      <td>0</td>\n",
              "      <td>0</td>\n",
              "      <td>0</td>\n",
              "      <td>0</td>\n",
              "      <td>0</td>\n",
              "      <td>0</td>\n",
              "      <td>0</td>\n",
              "      <td>0</td>\n",
              "      <td>0</td>\n",
              "      <td>0</td>\n",
              "      <td>0</td>\n",
              "      <td>0</td>\n",
              "      <td>0</td>\n",
              "      <td>0</td>\n",
              "      <td>0</td>\n",
              "      <td>0</td>\n",
              "      <td>0</td>\n",
              "      <td>0</td>\n",
              "      <td>0</td>\n",
              "      <td>0</td>\n",
              "      <td>0</td>\n",
              "      <td>0</td>\n",
              "      <td>0</td>\n",
              "      <td>0</td>\n",
              "      <td>0</td>\n",
              "      <td>0</td>\n",
              "      <td>0</td>\n",
              "      <td>0</td>\n",
              "      <td>0</td>\n",
              "      <td>0</td>\n",
              "      <td>0</td>\n",
              "      <td>0</td>\n",
              "      <td>0</td>\n",
              "      <td>0</td>\n",
              "      <td>0</td>\n",
              "      <td>0</td>\n",
              "      <td>0</td>\n",
              "    </tr>\n",
              "    <tr>\n",
              "      <th>A0571176384K8RBNKGF8O</th>\n",
              "      <td>0</td>\n",
              "      <td>0</td>\n",
              "      <td>0</td>\n",
              "      <td>0</td>\n",
              "      <td>0</td>\n",
              "      <td>0</td>\n",
              "      <td>0</td>\n",
              "      <td>0</td>\n",
              "      <td>0</td>\n",
              "      <td>0</td>\n",
              "      <td>0</td>\n",
              "      <td>0</td>\n",
              "      <td>0</td>\n",
              "      <td>0</td>\n",
              "      <td>0</td>\n",
              "      <td>0</td>\n",
              "      <td>0</td>\n",
              "      <td>0</td>\n",
              "      <td>0</td>\n",
              "      <td>0</td>\n",
              "      <td>0</td>\n",
              "      <td>0</td>\n",
              "      <td>0</td>\n",
              "      <td>0</td>\n",
              "      <td>0</td>\n",
              "      <td>0</td>\n",
              "      <td>0</td>\n",
              "      <td>0</td>\n",
              "      <td>0</td>\n",
              "      <td>0</td>\n",
              "      <td>0</td>\n",
              "      <td>0</td>\n",
              "      <td>0</td>\n",
              "      <td>0</td>\n",
              "      <td>0</td>\n",
              "      <td>0</td>\n",
              "      <td>0</td>\n",
              "      <td>0</td>\n",
              "      <td>0</td>\n",
              "      <td>0</td>\n",
              "      <td>0</td>\n",
              "      <td>0</td>\n",
              "      <td>0</td>\n",
              "      <td>0</td>\n",
              "      <td>0</td>\n",
              "      <td>0</td>\n",
              "      <td>0</td>\n",
              "      <td>0</td>\n",
              "      <td>0</td>\n",
              "      <td>0</td>\n",
              "      <td>0</td>\n",
              "      <td>0</td>\n",
              "      <td>0</td>\n",
              "      <td>0</td>\n",
              "      <td>0</td>\n",
              "      <td>0</td>\n",
              "      <td>0</td>\n",
              "      <td>0</td>\n",
              "      <td>0</td>\n",
              "      <td>0</td>\n",
              "      <td>5</td>\n",
              "      <td>0</td>\n",
              "      <td>0</td>\n",
              "      <td>0</td>\n",
              "      <td>0</td>\n",
              "      <td>0</td>\n",
              "      <td>0</td>\n",
              "      <td>0</td>\n",
              "      <td>0</td>\n",
              "      <td>0</td>\n",
              "      <td>0</td>\n",
              "      <td>0</td>\n",
              "      <td>0</td>\n",
              "      <td>0</td>\n",
              "      <td>0</td>\n",
              "      <td>0</td>\n",
              "    </tr>\n",
              "  </tbody>\n",
              "</table>\n",
              "</div>"
            ],
            "text/plain": [
              "productId              0972683275  1400501466  ...  B00000JYWQ  B00000K135\n",
              "userId                                         ...                        \n",
              "A01852072Z7B68UHLI5UG           0           0  ...           0           0\n",
              "A0266076X6KPZ6CCHGVS            0           0  ...           0           0\n",
              "A0293130VTX2ZXA70JQS            5           0  ...           0           0\n",
              "A030530627MK66BD8V4LN           4           0  ...           0           0\n",
              "A0571176384K8RBNKGF8O           0           0  ...           0           0\n",
              "\n",
              "[5 rows x 76 columns]"
            ]
          },
          "metadata": {},
          "execution_count": 45
        }
      ]
    },
    {
      "cell_type": "code",
      "metadata": {
        "id": "LsHZTjc30ZP_",
        "colab": {
          "base_uri": "https://localhost:8080/"
        },
        "outputId": "833881f3-b555-4921-a779-07af2315285a"
      },
      "source": [
        "ratings_matrix.shape"
      ],
      "execution_count": 46,
      "outputs": [
        {
          "output_type": "execute_result",
          "data": {
            "text/plain": [
              "(9832, 76)"
            ]
          },
          "metadata": {},
          "execution_count": 46
        }
      ]
    },
    {
      "cell_type": "code",
      "metadata": {
        "id": "j8mQWj030ZSu",
        "colab": {
          "base_uri": "https://localhost:8080/",
          "height": 284
        },
        "outputId": "dacc05ae-ac38-4704-8ca2-fe78a370c717"
      },
      "source": [
        "X = ratings_matrix.T\n",
        "X.head()"
      ],
      "execution_count": 47,
      "outputs": [
        {
          "output_type": "execute_result",
          "data": {
            "text/html": [
              "<div>\n",
              "<style scoped>\n",
              "    .dataframe tbody tr th:only-of-type {\n",
              "        vertical-align: middle;\n",
              "    }\n",
              "\n",
              "    .dataframe tbody tr th {\n",
              "        vertical-align: top;\n",
              "    }\n",
              "\n",
              "    .dataframe thead th {\n",
              "        text-align: right;\n",
              "    }\n",
              "</style>\n",
              "<table border=\"1\" class=\"dataframe\">\n",
              "  <thead>\n",
              "    <tr style=\"text-align: right;\">\n",
              "      <th>userId</th>\n",
              "      <th>A01852072Z7B68UHLI5UG</th>\n",
              "      <th>A0266076X6KPZ6CCHGVS</th>\n",
              "      <th>A0293130VTX2ZXA70JQS</th>\n",
              "      <th>A030530627MK66BD8V4LN</th>\n",
              "      <th>A0571176384K8RBNKGF8O</th>\n",
              "      <th>A0590501PZ7HOWJKBGQ4</th>\n",
              "      <th>A0641581307AKT5MAOU0Q</th>\n",
              "      <th>A076219533YHEV2LJO988</th>\n",
              "      <th>A0821988FXKFYX53V4QG</th>\n",
              "      <th>A099626739FNCRNHIKBCG</th>\n",
              "      <th>A1003EYWAQFOUG</th>\n",
              "      <th>A100LLXMXDZHJZ</th>\n",
              "      <th>A10121433FMMZNY18RWZ8</th>\n",
              "      <th>A1013OEQCVS6AR</th>\n",
              "      <th>A1013Q8NLCY56R</th>\n",
              "      <th>A101DJDPGK0Q46</th>\n",
              "      <th>A101IWCCIWQWC9</th>\n",
              "      <th>A10285OSAM1MZK</th>\n",
              "      <th>A102IUFPXVDRB6</th>\n",
              "      <th>A102L0RVI4LHH3</th>\n",
              "      <th>A102RLOGIBBDMW</th>\n",
              "      <th>A102ZABPUPNYCT</th>\n",
              "      <th>A1038957GWRBP375RU5T</th>\n",
              "      <th>A103XY7DJYZHFN</th>\n",
              "      <th>A104VHQ06KFLDT</th>\n",
              "      <th>A1058D8UFZL711</th>\n",
              "      <th>A105AZN9C8UAOJ</th>\n",
              "      <th>A105TOJ6LTVMBG</th>\n",
              "      <th>A106YUCY4SVX1D</th>\n",
              "      <th>A1077JEY0CE3BB</th>\n",
              "      <th>A1079KKA0AXSL3</th>\n",
              "      <th>A107I2HYD2JZ5G</th>\n",
              "      <th>A1089S59XSJT2T</th>\n",
              "      <th>A108LYH0NZ9919</th>\n",
              "      <th>A108UXJTIV8XXY</th>\n",
              "      <th>A10956KAP9F1CO</th>\n",
              "      <th>A109ZR833WIFQS</th>\n",
              "      <th>A10BH1JDT6SNGA</th>\n",
              "      <th>A10BOETDPAFJ4C</th>\n",
              "      <th>A10CRW7XRJBJ2G</th>\n",
              "      <th>...</th>\n",
              "      <th>AZKKZ58QBXZUA</th>\n",
              "      <th>AZKOO6TVQBDAF</th>\n",
              "      <th>AZL95QPWJDM3Y</th>\n",
              "      <th>AZM8PD2KBVXN5</th>\n",
              "      <th>AZMCJ61JS6L3X</th>\n",
              "      <th>AZMY6E8B52L2T</th>\n",
              "      <th>AZN6Z0QRMZYX8</th>\n",
              "      <th>AZNMO6T8G0ZEU</th>\n",
              "      <th>AZNVF1G1GJRR4</th>\n",
              "      <th>AZO3DZAJ8S0D9</th>\n",
              "      <th>AZODG8OG0CETL</th>\n",
              "      <th>AZOFJX627J181</th>\n",
              "      <th>AZOPTWUSS6UM0</th>\n",
              "      <th>AZOTUFIYPVNDT</th>\n",
              "      <th>AZPPZOYTNLEN0</th>\n",
              "      <th>AZPT44204EODM</th>\n",
              "      <th>AZPT6K5K0IVCT</th>\n",
              "      <th>AZPYIAOEAV3OZ</th>\n",
              "      <th>AZQ2YSCWSKWX6</th>\n",
              "      <th>AZQ9DYG38GVBR</th>\n",
              "      <th>AZQJQBJ75DHMS</th>\n",
              "      <th>AZQOWHUHXMIMS</th>\n",
              "      <th>AZQQVI9RHJYH6</th>\n",
              "      <th>AZQTJ6HUS5L2Q</th>\n",
              "      <th>AZRPGTU8A7KD5</th>\n",
              "      <th>AZS8W54PXQ01W</th>\n",
              "      <th>AZSUNAT0BRQDU</th>\n",
              "      <th>AZTC7YC8PKG39</th>\n",
              "      <th>AZTC8ZV20NO1D</th>\n",
              "      <th>AZV9WA9MNT0FB</th>\n",
              "      <th>AZWOPBY75SGAM</th>\n",
              "      <th>AZX0ZDVAFMN78</th>\n",
              "      <th>AZX5LAN9JEAFF</th>\n",
              "      <th>AZX7I110AF0W2</th>\n",
              "      <th>AZXKUK895VGSM</th>\n",
              "      <th>AZXP46IB63PU8</th>\n",
              "      <th>AZYTSU42BZ7TP</th>\n",
              "      <th>AZZGJ2KMWB7R</th>\n",
              "      <th>AZZMV5VT9W7Y8</th>\n",
              "      <th>AZZST8OYL5P4Q</th>\n",
              "    </tr>\n",
              "    <tr>\n",
              "      <th>productId</th>\n",
              "      <th></th>\n",
              "      <th></th>\n",
              "      <th></th>\n",
              "      <th></th>\n",
              "      <th></th>\n",
              "      <th></th>\n",
              "      <th></th>\n",
              "      <th></th>\n",
              "      <th></th>\n",
              "      <th></th>\n",
              "      <th></th>\n",
              "      <th></th>\n",
              "      <th></th>\n",
              "      <th></th>\n",
              "      <th></th>\n",
              "      <th></th>\n",
              "      <th></th>\n",
              "      <th></th>\n",
              "      <th></th>\n",
              "      <th></th>\n",
              "      <th></th>\n",
              "      <th></th>\n",
              "      <th></th>\n",
              "      <th></th>\n",
              "      <th></th>\n",
              "      <th></th>\n",
              "      <th></th>\n",
              "      <th></th>\n",
              "      <th></th>\n",
              "      <th></th>\n",
              "      <th></th>\n",
              "      <th></th>\n",
              "      <th></th>\n",
              "      <th></th>\n",
              "      <th></th>\n",
              "      <th></th>\n",
              "      <th></th>\n",
              "      <th></th>\n",
              "      <th></th>\n",
              "      <th></th>\n",
              "      <th></th>\n",
              "      <th></th>\n",
              "      <th></th>\n",
              "      <th></th>\n",
              "      <th></th>\n",
              "      <th></th>\n",
              "      <th></th>\n",
              "      <th></th>\n",
              "      <th></th>\n",
              "      <th></th>\n",
              "      <th></th>\n",
              "      <th></th>\n",
              "      <th></th>\n",
              "      <th></th>\n",
              "      <th></th>\n",
              "      <th></th>\n",
              "      <th></th>\n",
              "      <th></th>\n",
              "      <th></th>\n",
              "      <th></th>\n",
              "      <th></th>\n",
              "      <th></th>\n",
              "      <th></th>\n",
              "      <th></th>\n",
              "      <th></th>\n",
              "      <th></th>\n",
              "      <th></th>\n",
              "      <th></th>\n",
              "      <th></th>\n",
              "      <th></th>\n",
              "      <th></th>\n",
              "      <th></th>\n",
              "      <th></th>\n",
              "      <th></th>\n",
              "      <th></th>\n",
              "      <th></th>\n",
              "      <th></th>\n",
              "      <th></th>\n",
              "      <th></th>\n",
              "      <th></th>\n",
              "      <th></th>\n",
              "    </tr>\n",
              "  </thead>\n",
              "  <tbody>\n",
              "    <tr>\n",
              "      <th>0972683275</th>\n",
              "      <td>0</td>\n",
              "      <td>0</td>\n",
              "      <td>5</td>\n",
              "      <td>4</td>\n",
              "      <td>0</td>\n",
              "      <td>0</td>\n",
              "      <td>0</td>\n",
              "      <td>0</td>\n",
              "      <td>0</td>\n",
              "      <td>0</td>\n",
              "      <td>0</td>\n",
              "      <td>0</td>\n",
              "      <td>0</td>\n",
              "      <td>0</td>\n",
              "      <td>0</td>\n",
              "      <td>0</td>\n",
              "      <td>0</td>\n",
              "      <td>0</td>\n",
              "      <td>0</td>\n",
              "      <td>0</td>\n",
              "      <td>0</td>\n",
              "      <td>0</td>\n",
              "      <td>5</td>\n",
              "      <td>0</td>\n",
              "      <td>0</td>\n",
              "      <td>0</td>\n",
              "      <td>0</td>\n",
              "      <td>0</td>\n",
              "      <td>5</td>\n",
              "      <td>0</td>\n",
              "      <td>4</td>\n",
              "      <td>0</td>\n",
              "      <td>0</td>\n",
              "      <td>0</td>\n",
              "      <td>5</td>\n",
              "      <td>0</td>\n",
              "      <td>0</td>\n",
              "      <td>0</td>\n",
              "      <td>0</td>\n",
              "      <td>0</td>\n",
              "      <td>...</td>\n",
              "      <td>0</td>\n",
              "      <td>0</td>\n",
              "      <td>0</td>\n",
              "      <td>5</td>\n",
              "      <td>0</td>\n",
              "      <td>0</td>\n",
              "      <td>0</td>\n",
              "      <td>0</td>\n",
              "      <td>0</td>\n",
              "      <td>5</td>\n",
              "      <td>0</td>\n",
              "      <td>0</td>\n",
              "      <td>0</td>\n",
              "      <td>0</td>\n",
              "      <td>0</td>\n",
              "      <td>5</td>\n",
              "      <td>0</td>\n",
              "      <td>0</td>\n",
              "      <td>0</td>\n",
              "      <td>0</td>\n",
              "      <td>0</td>\n",
              "      <td>0</td>\n",
              "      <td>0</td>\n",
              "      <td>0</td>\n",
              "      <td>0</td>\n",
              "      <td>0</td>\n",
              "      <td>0</td>\n",
              "      <td>5</td>\n",
              "      <td>0</td>\n",
              "      <td>0</td>\n",
              "      <td>0</td>\n",
              "      <td>0</td>\n",
              "      <td>0</td>\n",
              "      <td>0</td>\n",
              "      <td>0</td>\n",
              "      <td>0</td>\n",
              "      <td>0</td>\n",
              "      <td>0</td>\n",
              "      <td>0</td>\n",
              "      <td>0</td>\n",
              "    </tr>\n",
              "    <tr>\n",
              "      <th>1400501466</th>\n",
              "      <td>0</td>\n",
              "      <td>0</td>\n",
              "      <td>0</td>\n",
              "      <td>0</td>\n",
              "      <td>0</td>\n",
              "      <td>0</td>\n",
              "      <td>0</td>\n",
              "      <td>0</td>\n",
              "      <td>0</td>\n",
              "      <td>0</td>\n",
              "      <td>0</td>\n",
              "      <td>0</td>\n",
              "      <td>0</td>\n",
              "      <td>0</td>\n",
              "      <td>0</td>\n",
              "      <td>0</td>\n",
              "      <td>0</td>\n",
              "      <td>0</td>\n",
              "      <td>0</td>\n",
              "      <td>0</td>\n",
              "      <td>0</td>\n",
              "      <td>0</td>\n",
              "      <td>0</td>\n",
              "      <td>0</td>\n",
              "      <td>0</td>\n",
              "      <td>0</td>\n",
              "      <td>0</td>\n",
              "      <td>0</td>\n",
              "      <td>0</td>\n",
              "      <td>0</td>\n",
              "      <td>0</td>\n",
              "      <td>5</td>\n",
              "      <td>5</td>\n",
              "      <td>0</td>\n",
              "      <td>0</td>\n",
              "      <td>0</td>\n",
              "      <td>0</td>\n",
              "      <td>0</td>\n",
              "      <td>0</td>\n",
              "      <td>0</td>\n",
              "      <td>...</td>\n",
              "      <td>0</td>\n",
              "      <td>0</td>\n",
              "      <td>0</td>\n",
              "      <td>0</td>\n",
              "      <td>0</td>\n",
              "      <td>0</td>\n",
              "      <td>0</td>\n",
              "      <td>0</td>\n",
              "      <td>0</td>\n",
              "      <td>0</td>\n",
              "      <td>0</td>\n",
              "      <td>0</td>\n",
              "      <td>0</td>\n",
              "      <td>0</td>\n",
              "      <td>0</td>\n",
              "      <td>0</td>\n",
              "      <td>0</td>\n",
              "      <td>0</td>\n",
              "      <td>0</td>\n",
              "      <td>0</td>\n",
              "      <td>0</td>\n",
              "      <td>0</td>\n",
              "      <td>3</td>\n",
              "      <td>0</td>\n",
              "      <td>0</td>\n",
              "      <td>0</td>\n",
              "      <td>0</td>\n",
              "      <td>0</td>\n",
              "      <td>0</td>\n",
              "      <td>0</td>\n",
              "      <td>0</td>\n",
              "      <td>0</td>\n",
              "      <td>0</td>\n",
              "      <td>0</td>\n",
              "      <td>0</td>\n",
              "      <td>0</td>\n",
              "      <td>0</td>\n",
              "      <td>0</td>\n",
              "      <td>0</td>\n",
              "      <td>0</td>\n",
              "    </tr>\n",
              "    <tr>\n",
              "      <th>1400501520</th>\n",
              "      <td>0</td>\n",
              "      <td>0</td>\n",
              "      <td>0</td>\n",
              "      <td>0</td>\n",
              "      <td>0</td>\n",
              "      <td>0</td>\n",
              "      <td>0</td>\n",
              "      <td>0</td>\n",
              "      <td>0</td>\n",
              "      <td>3</td>\n",
              "      <td>0</td>\n",
              "      <td>0</td>\n",
              "      <td>0</td>\n",
              "      <td>0</td>\n",
              "      <td>0</td>\n",
              "      <td>0</td>\n",
              "      <td>0</td>\n",
              "      <td>0</td>\n",
              "      <td>0</td>\n",
              "      <td>0</td>\n",
              "      <td>0</td>\n",
              "      <td>0</td>\n",
              "      <td>0</td>\n",
              "      <td>0</td>\n",
              "      <td>0</td>\n",
              "      <td>0</td>\n",
              "      <td>0</td>\n",
              "      <td>0</td>\n",
              "      <td>0</td>\n",
              "      <td>0</td>\n",
              "      <td>0</td>\n",
              "      <td>0</td>\n",
              "      <td>0</td>\n",
              "      <td>0</td>\n",
              "      <td>0</td>\n",
              "      <td>0</td>\n",
              "      <td>0</td>\n",
              "      <td>0</td>\n",
              "      <td>0</td>\n",
              "      <td>0</td>\n",
              "      <td>...</td>\n",
              "      <td>0</td>\n",
              "      <td>0</td>\n",
              "      <td>0</td>\n",
              "      <td>0</td>\n",
              "      <td>0</td>\n",
              "      <td>0</td>\n",
              "      <td>0</td>\n",
              "      <td>0</td>\n",
              "      <td>0</td>\n",
              "      <td>0</td>\n",
              "      <td>0</td>\n",
              "      <td>0</td>\n",
              "      <td>0</td>\n",
              "      <td>0</td>\n",
              "      <td>0</td>\n",
              "      <td>0</td>\n",
              "      <td>0</td>\n",
              "      <td>0</td>\n",
              "      <td>0</td>\n",
              "      <td>0</td>\n",
              "      <td>0</td>\n",
              "      <td>0</td>\n",
              "      <td>0</td>\n",
              "      <td>0</td>\n",
              "      <td>0</td>\n",
              "      <td>0</td>\n",
              "      <td>0</td>\n",
              "      <td>0</td>\n",
              "      <td>0</td>\n",
              "      <td>0</td>\n",
              "      <td>0</td>\n",
              "      <td>0</td>\n",
              "      <td>0</td>\n",
              "      <td>0</td>\n",
              "      <td>0</td>\n",
              "      <td>0</td>\n",
              "      <td>0</td>\n",
              "      <td>0</td>\n",
              "      <td>0</td>\n",
              "      <td>0</td>\n",
              "    </tr>\n",
              "    <tr>\n",
              "      <th>1400501776</th>\n",
              "      <td>0</td>\n",
              "      <td>0</td>\n",
              "      <td>0</td>\n",
              "      <td>0</td>\n",
              "      <td>0</td>\n",
              "      <td>0</td>\n",
              "      <td>0</td>\n",
              "      <td>0</td>\n",
              "      <td>0</td>\n",
              "      <td>0</td>\n",
              "      <td>0</td>\n",
              "      <td>0</td>\n",
              "      <td>0</td>\n",
              "      <td>0</td>\n",
              "      <td>0</td>\n",
              "      <td>0</td>\n",
              "      <td>0</td>\n",
              "      <td>0</td>\n",
              "      <td>0</td>\n",
              "      <td>0</td>\n",
              "      <td>0</td>\n",
              "      <td>0</td>\n",
              "      <td>0</td>\n",
              "      <td>0</td>\n",
              "      <td>0</td>\n",
              "      <td>0</td>\n",
              "      <td>0</td>\n",
              "      <td>0</td>\n",
              "      <td>0</td>\n",
              "      <td>0</td>\n",
              "      <td>0</td>\n",
              "      <td>0</td>\n",
              "      <td>0</td>\n",
              "      <td>0</td>\n",
              "      <td>0</td>\n",
              "      <td>0</td>\n",
              "      <td>0</td>\n",
              "      <td>0</td>\n",
              "      <td>0</td>\n",
              "      <td>0</td>\n",
              "      <td>...</td>\n",
              "      <td>0</td>\n",
              "      <td>0</td>\n",
              "      <td>0</td>\n",
              "      <td>0</td>\n",
              "      <td>0</td>\n",
              "      <td>0</td>\n",
              "      <td>0</td>\n",
              "      <td>0</td>\n",
              "      <td>0</td>\n",
              "      <td>0</td>\n",
              "      <td>0</td>\n",
              "      <td>0</td>\n",
              "      <td>0</td>\n",
              "      <td>0</td>\n",
              "      <td>0</td>\n",
              "      <td>0</td>\n",
              "      <td>0</td>\n",
              "      <td>0</td>\n",
              "      <td>0</td>\n",
              "      <td>0</td>\n",
              "      <td>0</td>\n",
              "      <td>4</td>\n",
              "      <td>0</td>\n",
              "      <td>0</td>\n",
              "      <td>0</td>\n",
              "      <td>0</td>\n",
              "      <td>0</td>\n",
              "      <td>0</td>\n",
              "      <td>0</td>\n",
              "      <td>0</td>\n",
              "      <td>0</td>\n",
              "      <td>0</td>\n",
              "      <td>0</td>\n",
              "      <td>0</td>\n",
              "      <td>0</td>\n",
              "      <td>0</td>\n",
              "      <td>0</td>\n",
              "      <td>0</td>\n",
              "      <td>1</td>\n",
              "      <td>0</td>\n",
              "    </tr>\n",
              "    <tr>\n",
              "      <th>1400532620</th>\n",
              "      <td>0</td>\n",
              "      <td>0</td>\n",
              "      <td>0</td>\n",
              "      <td>0</td>\n",
              "      <td>0</td>\n",
              "      <td>0</td>\n",
              "      <td>0</td>\n",
              "      <td>0</td>\n",
              "      <td>0</td>\n",
              "      <td>0</td>\n",
              "      <td>0</td>\n",
              "      <td>0</td>\n",
              "      <td>0</td>\n",
              "      <td>0</td>\n",
              "      <td>0</td>\n",
              "      <td>5</td>\n",
              "      <td>0</td>\n",
              "      <td>0</td>\n",
              "      <td>0</td>\n",
              "      <td>0</td>\n",
              "      <td>0</td>\n",
              "      <td>0</td>\n",
              "      <td>0</td>\n",
              "      <td>0</td>\n",
              "      <td>0</td>\n",
              "      <td>0</td>\n",
              "      <td>0</td>\n",
              "      <td>0</td>\n",
              "      <td>0</td>\n",
              "      <td>0</td>\n",
              "      <td>0</td>\n",
              "      <td>0</td>\n",
              "      <td>0</td>\n",
              "      <td>0</td>\n",
              "      <td>0</td>\n",
              "      <td>0</td>\n",
              "      <td>0</td>\n",
              "      <td>0</td>\n",
              "      <td>5</td>\n",
              "      <td>0</td>\n",
              "      <td>...</td>\n",
              "      <td>0</td>\n",
              "      <td>0</td>\n",
              "      <td>0</td>\n",
              "      <td>0</td>\n",
              "      <td>0</td>\n",
              "      <td>0</td>\n",
              "      <td>0</td>\n",
              "      <td>0</td>\n",
              "      <td>0</td>\n",
              "      <td>0</td>\n",
              "      <td>0</td>\n",
              "      <td>0</td>\n",
              "      <td>0</td>\n",
              "      <td>0</td>\n",
              "      <td>0</td>\n",
              "      <td>0</td>\n",
              "      <td>0</td>\n",
              "      <td>0</td>\n",
              "      <td>0</td>\n",
              "      <td>0</td>\n",
              "      <td>0</td>\n",
              "      <td>0</td>\n",
              "      <td>0</td>\n",
              "      <td>0</td>\n",
              "      <td>0</td>\n",
              "      <td>0</td>\n",
              "      <td>0</td>\n",
              "      <td>0</td>\n",
              "      <td>0</td>\n",
              "      <td>0</td>\n",
              "      <td>0</td>\n",
              "      <td>0</td>\n",
              "      <td>0</td>\n",
              "      <td>0</td>\n",
              "      <td>0</td>\n",
              "      <td>0</td>\n",
              "      <td>0</td>\n",
              "      <td>0</td>\n",
              "      <td>0</td>\n",
              "      <td>0</td>\n",
              "    </tr>\n",
              "  </tbody>\n",
              "</table>\n",
              "<p>5 rows × 9832 columns</p>\n",
              "</div>"
            ],
            "text/plain": [
              "userId      A01852072Z7B68UHLI5UG  ...  AZZST8OYL5P4Q\n",
              "productId                          ...               \n",
              "0972683275                      0  ...              0\n",
              "1400501466                      0  ...              0\n",
              "1400501520                      0  ...              0\n",
              "1400501776                      0  ...              0\n",
              "1400532620                      0  ...              0\n",
              "\n",
              "[5 rows x 9832 columns]"
            ]
          },
          "metadata": {},
          "execution_count": 47
        }
      ]
    },
    {
      "cell_type": "code",
      "metadata": {
        "id": "wWwHC8pp0ZVV",
        "colab": {
          "base_uri": "https://localhost:8080/"
        },
        "outputId": "1a8f4d8b-8e8c-4c1f-f3d9-3bc5b03bcbdc"
      },
      "source": [
        "X.shape"
      ],
      "execution_count": 48,
      "outputs": [
        {
          "output_type": "execute_result",
          "data": {
            "text/plain": [
              "(76, 9832)"
            ]
          },
          "metadata": {},
          "execution_count": 48
        }
      ]
    },
    {
      "cell_type": "code",
      "metadata": {
        "id": "6NY_RXC00ZYg",
        "colab": {
          "base_uri": "https://localhost:8080/"
        },
        "outputId": "85486278-c2a7-4a7f-b2e9-37dbfdc2c709"
      },
      "source": [
        "X.index"
      ],
      "execution_count": 49,
      "outputs": [
        {
          "output_type": "execute_result",
          "data": {
            "text/plain": [
              "Index(['0972683275', '1400501466', '1400501520', '1400501776', '1400532620',\n",
              "       '1400532655', '140053271X', '1400532736', '1400599997', '1400698987',\n",
              "       '3744295508', '6301977173', '7214047977', '8862935293', '9573212919',\n",
              "       '9575871979', '9625993428', '9888002198', '9966694544', '9983891212',\n",
              "       '9984984354', '9985511476', 'B000001OM4', 'B000001OM5', 'B000001OMI',\n",
              "       'B000001ON6', 'B00000DM9W', 'B00000IGBF', 'B00000J05A', 'B00000J061',\n",
              "       'B00000J08Q', 'B00000J0D2', 'B00000J0D5', 'B00000J0D8', 'B00000J1EJ',\n",
              "       'B00000J1EP', 'B00000J1EQ', 'B00000J1F3', 'B00000J1GA', 'B00000J1QK',\n",
              "       'B00000J1QR', 'B00000J1SC', 'B00000J1TX', 'B00000J1U8', 'B00000J1UQ',\n",
              "       'B00000J1V3', 'B00000J1V5', 'B00000J3NF', 'B00000J3Q7', 'B00000J3UJ',\n",
              "       'B00000J434', 'B00000J4EY', 'B00000J4FS', 'B00000J4GE', 'B00000J6WY',\n",
              "       'B00000JBAT', 'B00000JBHP', 'B00000JBPB', 'B00000JCT8', 'B00000JCTO',\n",
              "       'B00000JD34', 'B00000JDF5', 'B00000JDF6', 'B00000JDHV', 'B00000JFE3',\n",
              "       'B00000JFIF', 'B00000JFMK', 'B00000JHWX', 'B00000JI4F', 'B00000JII6',\n",
              "       'B00000JMUG', 'B00000JPPI', 'B00000JSGF', 'B00000JYLO', 'B00000JYWQ',\n",
              "       'B00000K135'],\n",
              "      dtype='object', name='productId')"
            ]
          },
          "metadata": {},
          "execution_count": 49
        }
      ]
    },
    {
      "cell_type": "code",
      "metadata": {
        "id": "LbzZy3BY0ZaU"
      },
      "source": [
        "X1 = X"
      ],
      "execution_count": 50,
      "outputs": []
    },
    {
      "cell_type": "code",
      "metadata": {
        "id": "sLrHAk8S0ZdC",
        "colab": {
          "base_uri": "https://localhost:8080/"
        },
        "outputId": "29b2cc51-216f-482f-9d8e-3eb1d0f7ec89"
      },
      "source": [
        "from sklearn.decomposition import TruncatedSVD\n",
        "SVD = TruncatedSVD(n_components=10)\n",
        "decomposed_matrix = SVD.fit_transform(X)\n",
        "decomposed_matrix.shape"
      ],
      "execution_count": 51,
      "outputs": [
        {
          "output_type": "execute_result",
          "data": {
            "text/plain": [
              "(76, 10)"
            ]
          },
          "metadata": {},
          "execution_count": 51
        }
      ]
    },
    {
      "cell_type": "code",
      "metadata": {
        "id": "YNm4Y27d0lm7",
        "colab": {
          "base_uri": "https://localhost:8080/"
        },
        "outputId": "450a1e83-7661-48b6-e1d5-fc73b7b32280"
      },
      "source": [
        "decomposed_matrix"
      ],
      "execution_count": 52,
      "outputs": [
        {
          "output_type": "execute_result",
          "data": {
            "text/plain": [
              "array([[ 1.48104508e+02, -1.54620254e-01,  2.45986058e-02,\n",
              "        -7.45802791e-05, -1.34214603e-01,  3.16992039e-05,\n",
              "         4.59292817e-02, -2.97365885e-04, -2.46314434e-03,\n",
              "        -8.38276340e-02],\n",
              "       [ 5.84450964e-04,  1.29442397e+00,  1.45093990e+00,\n",
              "         1.67110951e-01, -1.13047408e-04, -1.75866128e-02,\n",
              "        -4.46620614e-02,  1.84723870e-01,  6.08454129e+01,\n",
              "        -1.88855154e+00],\n",
              "       [ 4.14992751e-05,  9.57781254e-02,  3.19873906e-01,\n",
              "         1.08323658e-02, -2.49215670e-03,  2.24973597e-03,\n",
              "        -1.96170180e-03, -4.73585281e-02,  1.58898858e+00,\n",
              "        -2.38189279e-01],\n",
              "       [ 5.50046527e-04,  7.54461141e-01,  5.08610831e-01,\n",
              "         5.18100990e-04,  2.78215634e-02,  4.85342388e-02,\n",
              "         7.63372441e-02, -3.16174848e-02,  4.92138891e+00,\n",
              "        -3.07209223e-01],\n",
              "       [ 5.89884705e-04,  7.87884645e-01,  1.10953184e+00,\n",
              "         4.06240309e-02, -1.01610542e-02, -1.75837110e-02,\n",
              "        -1.61268258e-04, -1.65201181e-01,  1.26312033e+00,\n",
              "        -4.93751953e-01],\n",
              "       [ 2.62253506e-01,  8.72491613e+01, -1.42250775e+01,\n",
              "        -1.63125727e-02,  2.89622107e-03, -8.96853590e-04,\n",
              "        -6.38129701e-03,  1.10942863e-03, -7.80468108e-01,\n",
              "         2.69517935e-02],\n",
              "       [ 1.01939917e-03,  1.45211532e+01,  8.52267020e+01,\n",
              "        -3.97829000e-02, -2.88220468e-02,  8.57761304e-04,\n",
              "        -1.12938790e-02, -3.07029612e-03, -1.26104972e+00,\n",
              "         4.71163180e-02],\n",
              "       [ 7.38890037e-06,  6.97354937e-02,  4.04303307e-01,\n",
              "         4.29804677e-03,  2.70815675e-03, -1.78998819e-03,\n",
              "         4.95397956e-03, -2.21529824e-02,  5.72277573e-01,\n",
              "        -1.15158829e-02],\n",
              "       [ 4.91993624e-04,  7.75593855e-01, -1.07479125e-01,\n",
              "        -1.00877104e-02, -7.05356908e-03, -3.99563308e-03,\n",
              "        -3.89171049e-02,  1.30207055e-03,  1.28249559e+00,\n",
              "         5.43003044e-01],\n",
              "       [ 4.94094360e-04,  5.70419798e-01,  7.61563254e-01,\n",
              "         4.79312078e-02,  1.25446097e-01, -4.33806574e-02,\n",
              "         4.13781957e-01,  1.16556249e-02,  3.67506543e+00,\n",
              "        -4.60373867e-01],\n",
              "       [-5.81826817e-06,  6.42391702e-04, -3.33502006e-03,\n",
              "        -3.70917949e-03, -2.32956016e-03,  6.94512203e-03,\n",
              "        -3.25079015e-03,  2.36229568e-02, -1.93892446e-01,\n",
              "         9.84637530e-02],\n",
              "       [ 3.29601620e-06, -3.78271383e-04,  4.86364596e-03,\n",
              "         1.60550234e-03,  4.10081555e-03, -2.60734530e-03,\n",
              "         4.24172824e-03, -2.56521722e-02,  2.92364529e-01,\n",
              "        -1.21837564e-01],\n",
              "       [ 1.11569454e-04,  5.83842194e-03,  4.41863775e-02,\n",
              "         3.06630870e-02,  2.71625601e-02,  4.95389800e-03,\n",
              "         2.87874212e-02, -2.63422697e-02,  1.21051698e+00,\n",
              "        -3.57689241e-01],\n",
              "       [-8.40049833e-06,  1.81114242e-03,  1.30647897e-03,\n",
              "        -1.08421044e-03,  2.92128636e-03, -1.09489948e-02,\n",
              "         2.71459216e-04, -6.00772409e-04,  1.92969808e-01,\n",
              "         1.65618429e-03],\n",
              "       [-2.36989022e-05,  6.17892424e-03, -8.79440015e-03,\n",
              "        -1.30805889e-02,  6.53982588e-03, -2.41029971e-03,\n",
              "         9.22682619e-03,  1.07728519e-01, -4.64574075e-01,\n",
              "         6.32524689e-01],\n",
              "       [ 3.36874734e-05,  1.07046749e-04,  1.29178132e-03,\n",
              "         4.12681314e-03,  5.50025407e-03,  9.85013368e-03,\n",
              "        -1.78427549e-02,  1.63141847e-03,  2.45491217e-01,\n",
              "         4.28739911e-01],\n",
              "       [ 1.22814019e-05,  4.51828586e-03,  5.38089287e-03,\n",
              "         6.41658530e-03, -3.23127208e-03, -1.52070241e-02,\n",
              "        -3.07765689e-02, -1.03179702e-02, -1.99745472e-01,\n",
              "        -3.44997943e-02],\n",
              "       [-7.52660042e-06,  9.83622059e-05, -3.44146259e-03,\n",
              "        -4.25798401e-03,  4.91253000e-04,  2.03123117e-03,\n",
              "        -2.41408850e-03,  5.54043854e-03, -1.26557650e-01,\n",
              "         5.12065829e-02],\n",
              "       [-1.16658445e-07,  8.43196419e-04,  1.78593563e-03,\n",
              "         9.14576246e-04,  2.18381635e-05, -4.33345753e-03,\n",
              "        -2.44954935e-03,  5.14166163e-04,  6.28973162e-02,\n",
              "        -3.80462195e-02],\n",
              "       [ 2.02726092e-01, -3.74910148e-03,  1.04259619e-02,\n",
              "         1.20380782e-02, -3.93693460e-03, -2.48611561e-03,\n",
              "        -2.63085406e-03, -6.92690508e-02,  2.20316000e+00,\n",
              "         6.04290230e+01],\n",
              "       [-3.63202878e-06,  8.49614910e-04, -4.78965372e-04,\n",
              "        -1.54474609e-03,  4.91860636e-04, -2.07022771e-03,\n",
              "        -1.04914607e-03,  2.49578552e-03, -1.67776899e-03,\n",
              "        -5.20865017e-03],\n",
              "       [-1.16705849e-05,  4.67361345e-05, -2.55272041e-03,\n",
              "        -3.41162385e-03, -3.06114517e-03,  8.08722513e-04,\n",
              "         2.12388698e-03, -9.83870314e-04, -1.57535326e-01,\n",
              "        -2.43808574e-02],\n",
              "       [-6.17521000e-06,  9.22865348e-04,  1.26323491e-03,\n",
              "         1.09117364e-03,  4.47996790e-03, -7.10610669e-03,\n",
              "        -1.67789341e-02, -2.59906849e-02,  1.13665655e-01,\n",
              "        -1.93841076e-02],\n",
              "       [ 1.86419013e-01,  1.40719159e-02, -5.24885774e-02,\n",
              "        -7.08265149e-02,  4.11932094e-01,  3.79927392e-02,\n",
              "        -3.65891324e-02,  3.05657120e-01,  4.42335724e-01,\n",
              "         8.71572907e-01],\n",
              "       [ 4.09205138e-07,  9.27115584e-05,  8.53586453e-04,\n",
              "         6.93921649e-03, -2.31762988e-04,  1.84302795e-03,\n",
              "        -2.94788320e-04,  4.42320512e-01,  2.81593010e-03,\n",
              "        -1.18814878e-03],\n",
              "       [ 2.30371752e-04,  2.69826204e-02, -4.49262901e-02,\n",
              "        -5.56376537e-02,  1.33420113e-02,  5.66646201e-01,\n",
              "        -8.64132751e-02,  3.12180392e-01, -3.87800592e+00,\n",
              "         1.37669394e+00],\n",
              "       [-3.27365284e-06,  2.05031925e-02,  3.28439412e-02,\n",
              "         8.50821789e+01, -1.11784968e-01, -2.33586196e-02,\n",
              "         1.31237818e-04, -1.37790298e+00, -1.31065631e-01,\n",
              "        -5.66038230e-04],\n",
              "       [ 3.76516951e-06, -7.00253619e-04,  8.28955188e-04,\n",
              "         1.14793400e-03, -4.59093982e-04,  1.02543222e-03,\n",
              "        -1.25819109e-04, -6.55143114e-03,  1.57990996e-02,\n",
              "        -5.13183147e-04],\n",
              "       [ 3.76765250e-06, -3.45201818e-04,  8.73444873e-04,\n",
              "         1.05369500e-03,  9.52888779e-04,  3.87089719e-04,\n",
              "         6.19660055e-03, -3.04077015e-03,  4.60066927e-02,\n",
              "        -1.62304886e-02],\n",
              "       [ 8.80158432e-06, -2.36808970e-03,  5.10644357e-03,\n",
              "         1.70515579e+00, -2.90566145e-03,  3.72656187e-01,\n",
              "         2.94787549e-03,  6.88004302e+01, -1.05241092e-01,\n",
              "         4.26318746e-02],\n",
              "       [ 2.58231511e-07,  2.30904085e-04,  3.37048063e-04,\n",
              "        -1.48932598e-05,  1.67485275e-04, -4.93528876e-04,\n",
              "         1.71186144e-04,  5.44582610e-04,  3.12995734e-02,\n",
              "        -2.90715142e-03],\n",
              "       [-4.68690811e-09,  2.46303831e-04, -1.62620292e-05,\n",
              "        -1.92113219e-04,  1.57729690e-05, -6.66107390e-04,\n",
              "         7.16741949e-04, -1.06893896e-04,  9.72722836e-03,\n",
              "         1.35847724e-03],\n",
              "       [-3.88334192e-07, -3.94380665e-05, -1.17840695e-04,\n",
              "         1.50179546e-07, -1.06057472e-04,  9.13431246e-05,\n",
              "        -7.48004179e-04,  2.20357060e-03, -7.54155020e-03,\n",
              "         8.68627887e-03],\n",
              "       [-1.91545345e-09, -3.11878447e-06, -5.16517680e-06,\n",
              "        -8.38128806e-07, -1.01332028e-06,  5.75101672e-06,\n",
              "         1.73392114e-06,  4.19692567e-05, -2.12467524e-04,\n",
              "        -8.35814670e-05],\n",
              "       [-1.22119591e-06, -6.52210323e-04,  1.29955154e-05,\n",
              "         6.82252952e-04, -7.36199427e-04,  1.64087637e-03,\n",
              "        -2.15402219e-03, -2.56014380e-03, -5.23890453e-02,\n",
              "        -6.11396976e-03],\n",
              "       [ 6.47644243e-06, -5.14430241e-03, -7.97098821e-03,\n",
              "        -2.62751656e-03,  1.66994338e-03,  1.71697642e-02,\n",
              "         3.49783096e-02,  7.01701298e-03, -2.97008420e-01,\n",
              "         1.30145793e-01],\n",
              "       [-7.30828833e-05,  1.82857577e-02, -2.45239369e-02,\n",
              "        -2.93945315e-02,  2.50585280e-03, -9.35631818e-03,\n",
              "        -1.45685373e-02,  2.57051208e-01, -1.35454281e+00,\n",
              "         7.10484611e-01],\n",
              "       [-6.21861591e-06,  9.33033399e-04, -3.18827317e-03,\n",
              "        -3.28313087e-03,  6.98690317e-04,  7.41242504e-03,\n",
              "         1.03694744e-04,  1.90301691e-02, -1.97080050e-01,\n",
              "         7.69839074e-02],\n",
              "       [ 2.34487815e-04, -3.52375918e-04, -3.90909540e-05,\n",
              "         3.05661662e-04,  2.42769676e-01,  2.78437638e-03,\n",
              "        -1.09148635e-01, -3.28093418e-03,  3.18608048e-03,\n",
              "         9.97140581e-03],\n",
              "       [ 8.47925334e-05, -1.62367591e-02,  2.33018756e-02,\n",
              "         2.29515413e-02,  2.76690313e-03,  6.79467601e-03,\n",
              "         6.45606737e-02, -1.63901311e-01,  1.41656671e+00,\n",
              "        -9.46043997e-01],\n",
              "       [ 2.32922633e-04,  2.05971764e-03, -9.41146184e-05,\n",
              "        -6.67865684e-04,  1.13578662e-01, -3.82235578e-03,\n",
              "         3.17471769e-01,  1.25025986e-02,  1.38791630e-01,\n",
              "        -1.96104636e-02],\n",
              "       [-2.46981280e-04,  2.46420394e-02, -6.93038421e-02,\n",
              "        -7.81131519e-02,  6.08196095e-03, -3.52793824e-02,\n",
              "        -6.48662352e-02,  2.73762614e-01, -2.90462237e+00,\n",
              "         8.87682163e-01],\n",
              "       [-6.08263041e-05, -6.21958331e-03, -1.19358636e-02,\n",
              "         4.14727249e-03, -2.85388690e-02, -1.65860346e-02,\n",
              "        -6.51563673e-02, -8.24041559e-02, -1.44038998e+00,\n",
              "         9.23509340e-02],\n",
              "       [-4.02540840e-06,  1.25246853e-03,  5.65905653e-04,\n",
              "        -1.98344464e-03,  1.21438636e-03, -3.33993316e-03,\n",
              "         1.15834894e-03,  2.29907899e-03,  4.98077754e-02,\n",
              "        -6.77516011e-03],\n",
              "       [ 2.96225300e-04, -2.92446342e-02,  5.22798646e-02,\n",
              "         6.38061901e-02, -1.36589822e-02,  5.75159126e-02,\n",
              "         1.42180246e-01, -1.66125596e-01,  2.56207865e+00,\n",
              "        -1.16577258e-01],\n",
              "       [-9.21034906e-06,  1.90146983e-02, -1.02441720e-02,\n",
              "        -3.56555589e-02,  9.61205051e-03, -3.07194675e-02,\n",
              "         4.36560871e-02,  1.68161230e-01,  2.07095783e-01,\n",
              "         5.76404133e-01],\n",
              "       [ 2.49018087e-01, -1.74214205e-03,  2.37642086e-02,\n",
              "         1.03988582e-01,  7.85345997e+01, -4.69293123e-02,\n",
              "        -2.94104017e+01,  1.91244563e-03, -5.29825266e-03,\n",
              "        -1.45319242e-02],\n",
              "       [ 4.52952013e-06, -7.28792005e-05, -1.61097187e-04,\n",
              "        -5.83643435e-04,  2.25389713e-03, -1.07342265e-03,\n",
              "         1.24685951e-02, -3.72885667e-04,  6.49887002e-02,\n",
              "        -2.65099622e-02],\n",
              "       [ 8.45679319e-06, -2.85939565e-03,  4.42532301e-03,\n",
              "         8.32874111e-03, -1.01441873e-03,  2.48643831e-03,\n",
              "         1.18995497e-02,  3.95307117e-01,  1.73663558e-01,\n",
              "        -1.50207910e-01],\n",
              "       [-1.80621815e-06,  1.14654801e-04, -4.51094905e-04,\n",
              "        -2.39986331e-04,  2.58815109e-04,  6.89800403e-04,\n",
              "        -2.17389572e-03, -1.91162774e-03, -1.94543339e-02,\n",
              "         2.43628134e-02],\n",
              "       [ 2.49862635e-05, -5.64834821e-03,  5.53544473e-03,\n",
              "         6.72517142e-03,  6.44039659e-04,  5.47684142e-03,\n",
              "         9.09277254e-03, -6.52026455e-02,  2.06185232e-01,\n",
              "        -6.74775651e-02],\n",
              "       [-8.66000076e-06, -4.89359527e-03, -8.38587159e-03,\n",
              "        -3.44305784e-03, -6.82432079e-03,  2.79186005e-02,\n",
              "         9.42087891e-03,  4.04777289e-02, -5.14951125e-01,\n",
              "         2.45945533e-01],\n",
              "       [ 1.19435693e-04, -2.54042175e-02,  2.65088636e-02,\n",
              "         2.83718602e-02,  9.34429445e-04,  3.23165404e-02,\n",
              "         2.57701633e-02, -2.95123185e-01,  1.07056564e+00,\n",
              "        -1.81505289e-01],\n",
              "       [ 1.48264323e-04,  6.79930293e-03, -3.31178212e-03,\n",
              "        -8.54473219e-03,  9.41953380e-03, -2.13827564e-02,\n",
              "         5.97148980e-03,  4.40978601e-02,  9.81319673e-02,\n",
              "        -1.23132194e-01],\n",
              "       [-5.72999561e-06,  5.21579546e-03, -1.87966566e-03,\n",
              "        -6.76998259e-03,  6.38060265e-03, -1.06976214e-02,\n",
              "         1.64560657e-03,  1.85907820e-02, -1.03388878e-01,\n",
              "         4.32808764e-02],\n",
              "       [ 4.46293817e-05, -1.93689326e-03,  1.31102363e-02,\n",
              "         2.04318145e-02, -2.09435461e-02,  2.49909736e-03,\n",
              "        -8.09564230e-03,  1.03805911e-01,  1.14417694e-01,\n",
              "        -1.19803543e-01],\n",
              "       [-6.18513565e-07,  2.02729723e-04, -4.27051710e-04,\n",
              "        -1.77610892e-04,  1.16564177e-03,  1.13508610e-04,\n",
              "         1.78243268e-03, -4.43938291e-03,  6.27381593e-03,\n",
              "         1.07593372e-02],\n",
              "       [ 3.82076179e-07, -4.45228909e-05,  3.28713458e-04,\n",
              "         5.98944195e-03, -2.42146450e-04,  1.41791854e-03,\n",
              "        -7.37795828e-04,  3.59331655e-01,  7.20768736e-03,\n",
              "        -7.78857050e-03],\n",
              "       [ 3.01617344e-06, -5.81615536e-04, -3.58283933e-04,\n",
              "         1.28573447e-03,  1.44697437e-04,  1.03786074e-03,\n",
              "         8.75935134e-04,  5.98799507e-03,  8.08084490e-03,\n",
              "         1.72776383e-02],\n",
              "       [-6.40340770e-06, -4.15163877e-04, -7.69923597e-04,\n",
              "        -5.58137848e-04,  6.81030856e-04, -5.89627145e-04,\n",
              "        -6.56578802e-03,  6.57132491e-03, -2.89019280e-02,\n",
              "         6.05728171e-02],\n",
              "       [-2.71116489e-06, -2.04867574e-03, -2.53101524e-03,\n",
              "        -6.34141570e-04, -1.11612587e-03,  7.02369907e-03,\n",
              "         3.79027469e-03,  2.11833048e-02, -8.71879495e-02,\n",
              "         9.33500628e-03],\n",
              "       [ 7.47484770e-03,  7.20374519e-03,  1.71631332e-02,\n",
              "         4.17094993e-02,  3.25875481e+01, -4.28607946e-03,\n",
              "         7.08418215e+01,  4.37685432e-03, -4.57435339e-02,\n",
              "         1.63662900e-02],\n",
              "       [ 6.38647145e-04, -2.93106530e-02, -9.58614145e-03,\n",
              "        -1.21922719e-03,  1.16327238e+00,  6.08975421e-01,\n",
              "         6.95130988e-01, -2.73749693e-01,  3.24753266e-01,\n",
              "         8.38078557e-01],\n",
              "       [ 1.93139593e-07,  2.04688275e-05,  1.27820627e-03,\n",
              "         1.22243398e-03,  7.51763502e-04, -1.18553632e-03,\n",
              "         1.95006068e-03, -3.74935922e-03,  3.79813981e-02,\n",
              "        -3.00115648e-02],\n",
              "       [-8.23653664e-08, -1.10519156e-04,  1.33283134e-04,\n",
              "         1.55905863e-04, -1.59083918e-04,  1.58237750e-04,\n",
              "        -5.47181843e-04,  5.07260239e-04, -6.12876703e-04,\n",
              "        -1.66410084e-03],\n",
              "       [-4.07138272e-06,  3.95050476e-04, -2.72751815e-04,\n",
              "         1.26604698e-04, -8.30287337e-04,  7.42473120e-04,\n",
              "        -2.22705853e-03,  3.70186337e-03, -7.17923729e-02,\n",
              "         6.07406466e-03],\n",
              "       [ 7.41094699e-06, -2.22850637e-03,  4.02274901e-03,\n",
              "         2.30469695e-03, -3.42914918e-03,  7.08441754e-05,\n",
              "         1.16752553e-04, -1.09391400e-02,  6.90768476e-02,\n",
              "        -9.46527496e-02],\n",
              "       [-3.07715051e-06, -3.16320670e-04,  4.79364258e-04,\n",
              "        -6.10519775e-04,  5.18469667e-03,  2.53225572e-03,\n",
              "         5.18671564e-03, -5.48656863e-03,  2.33579641e-02,\n",
              "        -8.25889995e-03],\n",
              "       [ 1.80917205e-06,  1.26073063e-03, -7.69666650e-05,\n",
              "         1.72520244e-02,  3.85004647e-02,  8.05138971e+01,\n",
              "        -1.78714280e-02, -3.18689006e-01,  3.42090010e-02,\n",
              "        -1.47288745e-02],\n",
              "       [-1.80327705e-07,  1.02387780e-04,  8.66113793e-05,\n",
              "        -1.86622296e-05,  1.60595055e-04, -3.63266237e-04,\n",
              "        -4.46315106e-04, -7.58333195e-04,  6.79529435e-03,\n",
              "        -5.08649964e-04],\n",
              "       [-3.94709099e-07,  6.64181184e-05,  1.14591280e-05,\n",
              "         6.41293088e-05, -9.48225561e-05, -5.03653895e-05,\n",
              "        -4.87082784e-04, -4.37199747e-04, -4.35986293e-03,\n",
              "         2.10805364e-03],\n",
              "       [-7.58889783e-07,  1.48477847e-04, -2.75172463e-04,\n",
              "        -3.45216130e-04,  1.07966718e-05,  1.49113431e-03,\n",
              "        -6.09918671e-04,  2.12923471e-03, -2.82471254e-02,\n",
              "         1.00209854e-02],\n",
              "       [ 1.39536918e-04, -9.69570029e-03,  4.25896769e-02,\n",
              "         5.04598840e-02,  3.07229886e-01, -9.32758223e-03,\n",
              "         1.04765889e+00, -1.77739585e-01,  2.42051811e+00,\n",
              "        -1.48763693e+00],\n",
              "       [ 1.77100762e-04,  2.48591215e-03, -5.07722250e-04,\n",
              "        -2.05051962e-03,  5.29646283e-03, -2.12314257e-03,\n",
              "         8.74546507e-03, -2.62848596e-04,  1.21505748e-01,\n",
              "        -2.98477118e-02],\n",
              "       [-4.09131551e-06, -3.49456329e-04,  8.99713530e-04,\n",
              "         2.44677671e-03, -9.89852196e-04,  4.76590758e-04,\n",
              "        -8.21682486e-03, -2.84575484e-03, -1.28753066e-01,\n",
              "        -5.62055132e-03],\n",
              "       [ 6.51753173e-07, -8.84639817e-04, -1.39807418e-03,\n",
              "         1.32349070e-03, -3.45719315e-03,  4.90333363e-03,\n",
              "        -5.47625186e-03,  1.43454231e-02, -2.23442868e-01,\n",
              "         3.05507991e-02]])"
            ]
          },
          "metadata": {},
          "execution_count": 52
        }
      ]
    },
    {
      "cell_type": "code",
      "metadata": {
        "id": "e1JECJGc0lpR",
        "colab": {
          "base_uri": "https://localhost:8080/"
        },
        "outputId": "deaf2db3-37d2-43f7-9c7a-f83b194c824e"
      },
      "source": [
        "correlation_matrix = np.corrcoef(decomposed_matrix)\n",
        "correlation_matrix.shape"
      ],
      "execution_count": 53,
      "outputs": [
        {
          "output_type": "execute_result",
          "data": {
            "text/plain": [
              "(76, 76)"
            ]
          },
          "metadata": {},
          "execution_count": 53
        }
      ]
    },
    {
      "cell_type": "code",
      "metadata": {
        "id": "GdJwe2cU0lrv",
        "colab": {
          "base_uri": "https://localhost:8080/",
          "height": 35
        },
        "outputId": "81543b2d-20f6-4441-ada6-96b14922c000"
      },
      "source": [
        "X.index[75]"
      ],
      "execution_count": 54,
      "outputs": [
        {
          "output_type": "execute_result",
          "data": {
            "application/vnd.google.colaboratory.intrinsic+json": {
              "type": "string"
            },
            "text/plain": [
              "'B00000K135'"
            ]
          },
          "metadata": {},
          "execution_count": 54
        }
      ]
    },
    {
      "cell_type": "code",
      "metadata": {
        "id": "wH55SAzQ0lun",
        "colab": {
          "base_uri": "https://localhost:8080/"
        },
        "outputId": "697ec7ef-f746-4b89-f67a-ea3c5eb5f331"
      },
      "source": [
        "i = X.index[75]\n",
        "\n",
        "product_names = list(X.index)\n",
        "product_ID = product_names.index(i) #index구하기\n",
        "product_ID"
      ],
      "execution_count": 55,
      "outputs": [
        {
          "output_type": "execute_result",
          "data": {
            "text/plain": [
              "75"
            ]
          },
          "metadata": {},
          "execution_count": 55
        }
      ]
    },
    {
      "cell_type": "code",
      "metadata": {
        "id": "w1bglO9i0lw5",
        "colab": {
          "base_uri": "https://localhost:8080/"
        },
        "outputId": "5eabb1ef-a60c-46c1-d6f1-e3adcf316fd2"
      },
      "source": [
        "correlation_product_ID = correlation_matrix[product_ID]\n",
        "correlation_product_ID.shape"
      ],
      "execution_count": 56,
      "outputs": [
        {
          "output_type": "execute_result",
          "data": {
            "text/plain": [
              "(76,)"
            ]
          },
          "metadata": {},
          "execution_count": 56
        }
      ]
    },
    {
      "cell_type": "code",
      "metadata": {
        "id": "4pglAMo20rZB",
        "colab": {
          "base_uri": "https://localhost:8080/"
        },
        "outputId": "2180dedd-b368-4157-c4d0-a9c5d788563e"
      },
      "source": [
        "correlation_product_ID"
      ],
      "execution_count": 57,
      "outputs": [
        {
          "output_type": "execute_result",
          "data": {
            "text/plain": [
              "array([ 0.08826308, -0.99304344, -0.98051131, -0.98656634, -0.66597395,\n",
              "        0.07764077,  0.11107488, -0.80715972, -0.73701704, -0.97655684,\n",
              "        0.95295993, -0.97041274, -0.98570565, -0.98733611,  0.75277187,\n",
              "       -0.29929013,  0.9431229 ,  0.96974358, -0.92361678,  0.20066607,\n",
              "        0.06857646,  0.9582325 , -0.97894149, -0.15255128,  0.15322247,\n",
              "        0.97917344,  0.09358954, -0.93119866, -0.97229409,  0.16280701,\n",
              "       -0.99602018, -0.9602798 ,  0.79368622,  0.85856976,  0.96597762,\n",
              "        0.96011789,  0.94719493,  0.97647541,  0.03498369, -0.91229093,\n",
              "       -0.33360844,  0.98623283,  0.99250685, -0.99188455, -0.99492845,\n",
              "       -0.07572559,  0.04428681, -0.95361439, -0.31149108,  0.7450391 ,\n",
              "       -0.96256374,  0.95967387, -0.97799394, -0.69295442,  0.95504086,\n",
              "       -0.60116464, -0.3183001 ,  0.13483504, -0.15317906,  0.61267543,\n",
              "        0.98245688,  0.09110023,  0.01682001, -0.87837668,  0.14641846,\n",
              "        0.99867417, -0.74600022, -0.92533506,  0.11107997, -0.99233356,\n",
              "        0.93406519,  0.98204028, -0.85580783, -0.99037251,  0.98234154,\n",
              "        1.        ])"
            ]
          },
          "metadata": {},
          "execution_count": 57
        }
      ]
    },
    {
      "cell_type": "code",
      "metadata": {
        "id": "yv_GDEh60rbW",
        "colab": {
          "base_uri": "https://localhost:8080/"
        },
        "outputId": "4eb23ca7-6115-4030-87de-d44188472165"
      },
      "source": [
        "Recommend = list(X.index[correlation_product_ID > 0.65]) #피어슨 상관계수가 0.65보다 큰 상품들의 index의 list return\n",
        "\n",
        "Recommend.remove(i) # 이미 구입한 상품은 뺀다\n",
        "\n",
        "Recommend[0:24] #상위 24개 추천"
      ],
      "execution_count": 58,
      "outputs": [
        {
          "output_type": "execute_result",
          "data": {
            "text/plain": [
              "['3744295508',\n",
              " '9573212919',\n",
              " '9625993428',\n",
              " '9888002198',\n",
              " '9985511476',\n",
              " 'B000001ON6',\n",
              " 'B00000J0D5',\n",
              " 'B00000J0D8',\n",
              " 'B00000J1EJ',\n",
              " 'B00000J1EP',\n",
              " 'B00000J1EQ',\n",
              " 'B00000J1F3',\n",
              " 'B00000J1SC',\n",
              " 'B00000J1TX',\n",
              " 'B00000J3UJ',\n",
              " 'B00000J4EY',\n",
              " 'B00000J6WY',\n",
              " 'B00000JD34',\n",
              " 'B00000JFIF',\n",
              " 'B00000JMUG',\n",
              " 'B00000JPPI',\n",
              " 'B00000JYWQ']"
            ]
          },
          "metadata": {},
          "execution_count": 58
        }
      ]
    },
    {
      "cell_type": "code",
      "metadata": {
        "id": "m8onGwPW0rdz",
        "colab": {
          "base_uri": "https://localhost:8080/"
        },
        "outputId": "94b2842d-2c61-4e01-dcc8-fd45838e61a8"
      },
      "source": [
        "Recommend"
      ],
      "execution_count": 59,
      "outputs": [
        {
          "output_type": "execute_result",
          "data": {
            "text/plain": [
              "['3744295508',\n",
              " '9573212919',\n",
              " '9625993428',\n",
              " '9888002198',\n",
              " '9985511476',\n",
              " 'B000001ON6',\n",
              " 'B00000J0D5',\n",
              " 'B00000J0D8',\n",
              " 'B00000J1EJ',\n",
              " 'B00000J1EP',\n",
              " 'B00000J1EQ',\n",
              " 'B00000J1F3',\n",
              " 'B00000J1SC',\n",
              " 'B00000J1TX',\n",
              " 'B00000J3UJ',\n",
              " 'B00000J4EY',\n",
              " 'B00000J6WY',\n",
              " 'B00000JD34',\n",
              " 'B00000JFIF',\n",
              " 'B00000JMUG',\n",
              " 'B00000JPPI',\n",
              " 'B00000JYWQ']"
            ]
          },
          "metadata": {},
          "execution_count": 59
        }
      ]
    },
    {
      "cell_type": "code",
      "metadata": {
        "id": "XM4qwgwg0rng"
      },
      "source": [
        ""
      ],
      "execution_count": null,
      "outputs": []
    }
  ]
}