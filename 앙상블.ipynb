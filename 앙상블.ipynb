{
  "nbformat": 4,
  "nbformat_minor": 0,
  "metadata": {
    "colab": {
      "name": "앙상블.ipynb",
      "provenance": [],
      "include_colab_link": true
    },
    "kernelspec": {
      "name": "python3",
      "display_name": "Python 3"
    },
    "language_info": {
      "name": "python"
    }
  },
  "cells": [
    {
      "cell_type": "markdown",
      "metadata": {
        "id": "view-in-github",
        "colab_type": "text"
      },
      "source": [
        "<a href=\"https://colab.research.google.com/github/hyogyeong/ESAA/blob/main/%EC%95%99%EC%83%81%EB%B8%94.ipynb\" target=\"_parent\"><img src=\"https://colab.research.google.com/assets/colab-badge.svg\" alt=\"Open In Colab\"/></a>"
      ]
    },
    {
      "cell_type": "markdown",
      "metadata": {
        "id": "Xqp6uVZxd1nG"
      },
      "source": [
        "1-a. MNIST 데이터를 훈련, 검증, 테스트 데이터로 나눈다."
      ]
    },
    {
      "cell_type": "code",
      "metadata": {
        "id": "ZEFYsNEsGlef"
      },
      "source": [
        "from sklearn.datasets import fetch_openml"
      ],
      "execution_count": 4,
      "outputs": []
    },
    {
      "cell_type": "code",
      "metadata": {
        "colab": {
          "base_uri": "https://localhost:8080/"
        },
        "id": "rcL5bIACHu8j",
        "outputId": "1326211a-bc7a-4dbd-ae4c-b16cb3ef162f"
      },
      "source": [
        "import numpy as np\n",
        "import pandas as pd\n",
        "\n",
        "import os, struct\n",
        "import requests, hashlib, gzip\n",
        "\n",
        "def getMd5(data) :    \n",
        "    hash = hashlib.new(\"md5\")\n",
        "    hash.update(data)\n",
        "    return hash.hexdigest()\n",
        "\n",
        "def fileDownload(url) :\n",
        "    filename = getMd5(os.urandom(16))\n",
        "    res = requests.get(url)\n",
        "    res.raw.decode_content = True\n",
        "\n",
        "    f = open(filename, 'wb')\n",
        "    f.write(res.content)\n",
        "    f.close()\n",
        "\n",
        "    os.makedirs(filename + \"_\", exist_ok=True)\n",
        "\n",
        "    with open(filename +\"_/\" + filename, \"wb\") as out_f, gzip.GzipFile(filename) as zip_f:\n",
        "        out_f.write(zip_f.read())\n",
        "    \n",
        "    return filename\n",
        "\n",
        "def removeFile(filename) : \n",
        "    os.remove(filename + \"_/\" + filename)\n",
        "    os.rmdir(filename + \"_\")\n",
        "    os.remove(filename)\n",
        "\n",
        "def download_mnist(method):\n",
        "    base_url = \"https://ossci-datasets.s3.amazonaws.com/mnist/\"\n",
        "    download_link = {\n",
        "        \"train\" : ('train-images-idx3-ubyte.gz', 'train-labels-idx1-ubyte.gz'),\n",
        "        \"test\" : ('t10k-images-idx3-ubyte.gz', 't10k-labels-idx1-ubyte.gz')\n",
        "    \n",
        "    }\n",
        "    images_path, labels_path = download_link[method]\n",
        "\n",
        "    label_file_name = fileDownload(base_url + labels_path)\n",
        "\n",
        "    with open(label_file_name + \"_/\" + label_file_name,'rb') as lbpath:\n",
        "        magic, n = struct.unpack('>II',lbpath.read(8))\n",
        "        labels = np.fromfile(lbpath, dtype=np.uint8)\n",
        "    \n",
        "    removeFile(label_file_name)\n",
        "\n",
        "    image_file_name = fileDownload(base_url + images_path)\n",
        "\n",
        "    with open(image_file_name + \"_/\" + image_file_name,'rb') as imgpath:\n",
        "        magic, num, rows, cols = struct.unpack('>IIII',imgpath.read(16))\n",
        "        print(f\"count of row = {num}, count of column = {rows * cols}\")\n",
        "        images = np.fromfile(imgpath, dtype=np.uint8).reshape(len(labels), rows * cols)\n",
        "    \n",
        "    removeFile(image_file_name)\n",
        "\n",
        "    return images, labels\n",
        "\n",
        "\n",
        "if __name__ == '__main__':\n",
        "    X_train, y_train = download_mnist('train')\n",
        "\n",
        "    x_df = pd.DataFrame(X_train)\n",
        "    x_df.to_csv(\"train_dataset.csv\", index=False)\n",
        "\n",
        "    y_df = pd.DataFrame(y_train)\n",
        "    y_df.to_csv(\"train_label.csv\", index=False)\n",
        "\n",
        "    X_test, y_test = download_mnist('test')\n",
        "\n",
        "    x_df = pd.DataFrame(X_test)\n",
        "    x_df.to_csv(\"test_dataset.csv\", index=False)\n",
        "\n",
        "    y_df = pd.DataFrame(y_test)\n",
        "    y_df.to_csv(\"test_label.csv\", index=False)"
      ],
      "execution_count": 6,
      "outputs": [
        {
          "output_type": "stream",
          "name": "stdout",
          "text": [
            "count of row = 60000, count of column = 784\n",
            "count of row = 10000, count of column = 784\n"
          ]
        }
      ]
    },
    {
      "cell_type": "code",
      "metadata": {
        "colab": {
          "base_uri": "https://localhost:8080/"
        },
        "id": "KtuX6O2QGItu",
        "outputId": "befe33a4-38b3-405f-86de-f2a9593f1320"
      },
      "source": [
        "mnist = fetch_openml('mnist_784')"
      ],
      "execution_count": 7,
      "outputs": [
        {
          "output_type": "stream",
          "name": "stderr",
          "text": [
            "/usr/local/lib/python3.7/dist-packages/sklearn/datasets/_openml.py:64: RuntimeWarning: Invalid cache, redownloading file\n",
            "  warn(\"Invalid cache, redownloading file\", RuntimeWarning)\n"
          ]
        }
      ]
    },
    {
      "cell_type": "code",
      "metadata": {
        "id": "9LMBXHtpkteY"
      },
      "source": [
        "from sklearn.model_selection import train_test_split\n",
        "\n",
        "X_train_val, X_test, y_train_val, y_test = train_test_split(mnist.data, mnist.target, test_size=10000, random_state=42)\n",
        "X_train, X_val, y_train, y_val = train_test_split(X_train_val, y_train_val, test_size=10000, random_state=42)"
      ],
      "execution_count": 8,
      "outputs": []
    },
    {
      "cell_type": "markdown",
      "metadata": {
        "id": "Ujrp1oT-lImI"
      },
      "source": [
        "1-b. 랜덤 포레스트 분류기, 엑스트라 트리 분류기, SVM 분류기, MLP 분류기를 훈련시킨다. (n_estimators=100, random_state=42)"
      ]
    },
    {
      "cell_type": "code",
      "metadata": {
        "id": "Pq4BoCyiktdQ"
      },
      "source": [
        "from sklearn.ensemble import RandomForestClassifier, ExtraTreesClassifier\n",
        "from sklearn.svm import LinearSVC\n",
        "from sklearn.neural_network import MLPClassifier\n",
        "\n",
        "random_forest_clf = RandomForestClassifier(n_estimators=100, random_state=42)\n",
        "extra_trees_clf =  ExtraTreesClassifier(n_estimators=100, random_state=42)\n",
        "svm_clf = LinearSVC(max_iter=100, tol=20, random_state=42)\n",
        "mlp_clf = MLPClassifier(random_state=42)"
      ],
      "execution_count": 10,
      "outputs": []
    },
    {
      "cell_type": "code",
      "metadata": {
        "colab": {
          "base_uri": "https://localhost:8080/"
        },
        "id": "qvnGSyiAnpWa",
        "outputId": "ceaa2f90-06b8-47b4-bfdf-24b4a27ed70f"
      },
      "source": [
        "estimators = [random_forest_clf, extra_trees_clf, svm_clf, mlp_clf]\n",
        "for estimator in estimators:\n",
        "  print(\"Training the\", estimator)\n",
        "  estimator.fit(X_train, y_train)"
      ],
      "execution_count": 11,
      "outputs": [
        {
          "output_type": "stream",
          "name": "stdout",
          "text": [
            "Training the RandomForestClassifier(random_state=42)\n",
            "Training the ExtraTreesClassifier(random_state=42)\n",
            "Training the LinearSVC(max_iter=100, random_state=42, tol=20)\n",
            "Training the MLPClassifier(random_state=42)\n"
          ]
        }
      ]
    },
    {
      "cell_type": "code",
      "metadata": {
        "colab": {
          "base_uri": "https://localhost:8080/"
        },
        "id": "HA6-0plvnpVE",
        "outputId": "0470b175-c32d-4822-d8a5-c03e87742fe4"
      },
      "source": [
        "[estimator.score(X_val, y_val) for estimator in estimators] # 선형 SVM이 다른 분류기보다 성능이 많이 떨어진다."
      ],
      "execution_count": 12,
      "outputs": [
        {
          "output_type": "execute_result",
          "data": {
            "text/plain": [
              "[0.9692, 0.9715, 0.859, 0.9639]"
            ]
          },
          "metadata": {},
          "execution_count": 12
        }
      ]
    },
    {
      "cell_type": "markdown",
      "metadata": {
        "id": "UI2qPZpDn1Dp"
      },
      "source": [
        "1-c. 이들을 직접 투표 분류기를 사용하는 앙상블로 연결한다."
      ]
    },
    {
      "cell_type": "code",
      "metadata": {
        "id": "FxFKNMUoKBx9"
      },
      "source": [
        "from sklearn.ensemble import VotingClassifier"
      ],
      "execution_count": 13,
      "outputs": []
    },
    {
      "cell_type": "code",
      "metadata": {
        "id": "lcTyQdLYoRCn"
      },
      "source": [
        "named_estimators = [\n",
        "    (\"random_forest_clf\", random_forest_clf),\n",
        "    (\"extra_trees_clf\", extra_trees_clf),\n",
        "    (\"svm_clf\", svm_clf),\n",
        "    (\"mlp_clf\", mlp_clf),\n",
        "]"
      ],
      "execution_count": 14,
      "outputs": []
    },
    {
      "cell_type": "code",
      "metadata": {
        "id": "T3az7EZqKHAS"
      },
      "source": [
        "voting_clf = VotingClassifier(named_estimators)"
      ],
      "execution_count": 15,
      "outputs": []
    },
    {
      "cell_type": "code",
      "metadata": {
        "colab": {
          "base_uri": "https://localhost:8080/"
        },
        "id": "WIREY-J6Ji6x",
        "outputId": "86c0a555-018c-40f4-c1b0-9d9c32ad7fdc"
      },
      "source": [
        "voting_clf.fit(X_train, y_train)"
      ],
      "execution_count": 16,
      "outputs": [
        {
          "output_type": "execute_result",
          "data": {
            "text/plain": [
              "VotingClassifier(estimators=[('random_forest_clf',\n",
              "                              RandomForestClassifier(random_state=42)),\n",
              "                             ('extra_trees_clf',\n",
              "                              ExtraTreesClassifier(random_state=42)),\n",
              "                             ('svm_clf',\n",
              "                              LinearSVC(max_iter=100, random_state=42, tol=20)),\n",
              "                             ('mlp_clf', MLPClassifier(random_state=42))])"
            ]
          },
          "metadata": {},
          "execution_count": 16
        }
      ]
    },
    {
      "cell_type": "code",
      "metadata": {
        "colab": {
          "base_uri": "https://localhost:8080/"
        },
        "id": "JaJ1xGottbnp",
        "outputId": "915da271-010a-4bc9-e72c-d7af1f914fd6"
      },
      "source": [
        "voting_clf.score(X_val, y_val)"
      ],
      "execution_count": 17,
      "outputs": [
        {
          "output_type": "execute_result",
          "data": {
            "text/plain": [
              "0.9708"
            ]
          },
          "metadata": {},
          "execution_count": 17
        }
      ]
    },
    {
      "cell_type": "code",
      "metadata": {
        "colab": {
          "base_uri": "https://localhost:8080/"
        },
        "id": "_PYsu8X8KMBK",
        "outputId": "d8ab4681-1e99-4727-fbb2-721da805b473"
      },
      "source": [
        "[estimator.score(X_val, y_val) for estimator in voting_clf.estimators_]"
      ],
      "execution_count": 26,
      "outputs": [
        {
          "output_type": "execute_result",
          "data": {
            "text/plain": [
              "[0.0, 0.0]"
            ]
          },
          "metadata": {},
          "execution_count": 26
        }
      ]
    },
    {
      "cell_type": "markdown",
      "metadata": {
        "id": "5XaWFdAJ2CZ2"
      },
      "source": [
        "1-d. 다른 분류기보다 성능이 많이 떨어졌던 선형 SVM 제거 후 VotingClassifier를 다시 평가"
      ]
    },
    {
      "cell_type": "code",
      "metadata": {
        "id": "TU_J0j4O2Kw-"
      },
      "source": [
        "voting_clf.set_params(svm_clf=None)\n",
        "del voting_clf.estimators_[2]"
      ],
      "execution_count": 20,
      "outputs": []
    },
    {
      "cell_type": "code",
      "metadata": {
        "colab": {
          "base_uri": "https://localhost:8080/"
        },
        "id": "taQC0jAUKWmU",
        "outputId": "cdcc956d-fe9d-462c-a603-5ef8cf606b47"
      },
      "source": [
        "voting_clf.estimators"
      ],
      "execution_count": 21,
      "outputs": [
        {
          "output_type": "execute_result",
          "data": {
            "text/plain": [
              "[('random_forest_clf', RandomForestClassifier(random_state=42)),\n",
              " ('extra_trees_clf', ExtraTreesClassifier(random_state=42)),\n",
              " ('svm_clf', None),\n",
              " ('mlp_clf', MLPClassifier(random_state=42))]"
            ]
          },
          "metadata": {},
          "execution_count": 21
        }
      ]
    },
    {
      "cell_type": "code",
      "metadata": {
        "colab": {
          "base_uri": "https://localhost:8080/"
        },
        "id": "9_nFAp2cKY76",
        "outputId": "ba51c473-a304-4d87-e81a-8def1d84114a"
      },
      "source": [
        "voting_clf.estimators_"
      ],
      "execution_count": 22,
      "outputs": [
        {
          "output_type": "execute_result",
          "data": {
            "text/plain": [
              "[RandomForestClassifier(random_state=42),\n",
              " ExtraTreesClassifier(random_state=42)]"
            ]
          },
          "metadata": {},
          "execution_count": 22
        }
      ]
    },
    {
      "cell_type": "code",
      "metadata": {
        "colab": {
          "base_uri": "https://localhost:8080/",
          "height": 174
        },
        "id": "5npuHIz7Kauw",
        "outputId": "94f3b44a-bad8-445c-8b04-8f83bf642c92"
      },
      "source": [
        "del voting_clf.estimators_[2]"
      ],
      "execution_count": 23,
      "outputs": [
        {
          "output_type": "error",
          "ename": "IndexError",
          "evalue": "ignored",
          "traceback": [
            "\u001b[0;31m---------------------------------------------------------------------------\u001b[0m",
            "\u001b[0;31mIndexError\u001b[0m                                Traceback (most recent call last)",
            "\u001b[0;32m<ipython-input-23-0f294eb6fb28>\u001b[0m in \u001b[0;36m<module>\u001b[0;34m()\u001b[0m\n\u001b[0;32m----> 1\u001b[0;31m \u001b[0;32mdel\u001b[0m \u001b[0mvoting_clf\u001b[0m\u001b[0;34m.\u001b[0m\u001b[0mestimators_\u001b[0m\u001b[0;34m[\u001b[0m\u001b[0;36m2\u001b[0m\u001b[0;34m]\u001b[0m\u001b[0;34m\u001b[0m\u001b[0;34m\u001b[0m\u001b[0m\n\u001b[0m",
            "\u001b[0;31mIndexError\u001b[0m: list assignment index out of range"
          ]
        }
      ]
    },
    {
      "cell_type": "code",
      "metadata": {
        "colab": {
          "base_uri": "https://localhost:8080/"
        },
        "id": "Ima-U47a2SGA",
        "outputId": "bdb5067d-96bd-4901-d0d4-b6f02860c9f8"
      },
      "source": [
        "voting_clf.score(X_val, y_val)"
      ],
      "execution_count": 27,
      "outputs": [
        {
          "output_type": "execute_result",
          "data": {
            "text/plain": [
              "0.9713"
            ]
          },
          "metadata": {},
          "execution_count": 27
        }
      ]
    },
    {
      "cell_type": "markdown",
      "metadata": {
        "id": "8qYEEuAvsGho"
      },
      "source": [
        "1-d. 간접 투표 분류기를 사용하여 앙상블로 연결."
      ]
    },
    {
      "cell_type": "code",
      "metadata": {
        "colab": {
          "base_uri": "https://localhost:8080/"
        },
        "id": "T74JWjKBoxQf",
        "outputId": "f0ff74ac-5f30-4a3b-c16e-3a78fafdf184"
      },
      "source": [
        "voting_clf.voting = \"soft\"\n",
        "voting_clf.score(X_val, y_val)"
      ],
      "execution_count": 28,
      "outputs": [
        {
          "output_type": "execute_result",
          "data": {
            "text/plain": [
              "0.9719"
            ]
          },
          "metadata": {},
          "execution_count": 28
        }
      ]
    },
    {
      "cell_type": "code",
      "metadata": {
        "colab": {
          "base_uri": "https://localhost:8080/"
        },
        "id": "NTpzcLBYKg4g",
        "outputId": "fe595728-5d0e-449c-bc96-5fcac842a57f"
      },
      "source": [
        "voting_clf.voting = \"hard\"\n",
        "voting_clf.score(X_test, y_test)"
      ],
      "execution_count": 29,
      "outputs": [
        {
          "output_type": "execute_result",
          "data": {
            "text/plain": [
              "0.9648"
            ]
          },
          "metadata": {},
          "execution_count": 29
        }
      ]
    },
    {
      "cell_type": "code",
      "metadata": {
        "colab": {
          "base_uri": "https://localhost:8080/"
        },
        "id": "55cXnqiQKjEB",
        "outputId": "659021b6-8a89-49db-b883-ca23a19133f9"
      },
      "source": [
        "[estimator.score(X_test, y_test) for estimator in voting_clf.estimators_]"
      ],
      "execution_count": 31,
      "outputs": [
        {
          "output_type": "execute_result",
          "data": {
            "text/plain": [
              "[0.0, 0.0]"
            ]
          },
          "metadata": {},
          "execution_count": 31
        }
      ]
    },
    {
      "cell_type": "code",
      "metadata": {
        "id": "gVhXRBOiMKGw"
      },
      "source": [
        ""
      ],
      "execution_count": null,
      "outputs": []
    }
  ]
}